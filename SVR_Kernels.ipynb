{
  "nbformat": 4,
  "nbformat_minor": 0,
  "metadata": {
    "colab": {
      "provenance": [],
      "include_colab_link": true
    },
    "kernelspec": {
      "name": "python3",
      "display_name": "Python 3"
    },
    "language_info": {
      "name": "python"
    }
  },
  "cells": [
    {
      "cell_type": "markdown",
      "metadata": {
        "id": "view-in-github",
        "colab_type": "text"
      },
      "source": [
        "<a href=\"https://colab.research.google.com/github/bhuvighosh3/ML-Compute/blob/main/SVR_Kernels.ipynb\" target=\"_parent\"><img src=\"https://colab.research.google.com/assets/colab-badge.svg\" alt=\"Open In Colab\"/></a>"
      ]
    },
    {
      "cell_type": "markdown",
      "source": [
        "Dataset Link: \n",
        "https://drive.google.com/file/d/1DLjBn6uLiCT6Cg8TtR87cK-lYwaOQr6F/view?usp=sharing\n"
      ],
      "metadata": {
        "id": "Q7k_9lm5Oizs"
      }
    },
    {
      "cell_type": "markdown",
      "source": [
        "Dataset column information:\n",
        "\n",
        "\n",
        "\n",
        "![image.png](data:image/png;base64,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)"
      ],
      "metadata": {
        "id": "Nl7nwcAAOGrI"
      }
    },
    {
      "cell_type": "code",
      "source": [
        "import statsmodels.api as sm"
      ],
      "metadata": {
        "id": "1OFBA9dG8jSo"
      },
      "execution_count": 82,
      "outputs": []
    },
    {
      "cell_type": "markdown",
      "source": [
        "##Q1 Import the libraries and dataset"
      ],
      "metadata": {
        "id": "vpqcPlEqSaIs"
      }
    },
    {
      "cell_type": "code",
      "source": [
        "import numpy as np\n",
        "import pandas as pd\n",
        "import seaborn as sns"
      ],
      "metadata": {
        "id": "2cuKb6KKW1iG"
      },
      "execution_count": 83,
      "outputs": []
    },
    {
      "cell_type": "code",
      "source": [
        "df=pd.read_csv('/content/Data (1).csv')"
      ],
      "metadata": {
        "id": "sPkjXfbeueBy"
      },
      "execution_count": 84,
      "outputs": []
    },
    {
      "cell_type": "code",
      "source": [
        "df.head()"
      ],
      "metadata": {
        "colab": {
          "base_uri": "https://localhost:8080/",
          "height": 206
        },
        "id": "nBWeE-izuoiA",
        "outputId": "8320b382-fd94-4e1d-cf92-9ec46e2d32a6"
      },
      "execution_count": 85,
      "outputs": [
        {
          "output_type": "execute_result",
          "data": {
            "text/plain": [
              "      AT      V       AP     RH      PE\n",
              "0  14.96  41.76  1024.07  73.17  463.26\n",
              "1  25.18  62.96  1020.04  59.08  444.37\n",
              "2   5.11  39.40  1012.16  92.14  488.56\n",
              "3  20.86  57.32  1010.24  76.64  446.48\n",
              "4  10.82  37.50  1009.23  96.62  473.90"
            ],
            "text/html": [
              "\n",
              "  <div id=\"df-90a8dc69-f9ed-4d0a-a48e-8295caaf406c\">\n",
              "    <div class=\"colab-df-container\">\n",
              "      <div>\n",
              "<style scoped>\n",
              "    .dataframe tbody tr th:only-of-type {\n",
              "        vertical-align: middle;\n",
              "    }\n",
              "\n",
              "    .dataframe tbody tr th {\n",
              "        vertical-align: top;\n",
              "    }\n",
              "\n",
              "    .dataframe thead th {\n",
              "        text-align: right;\n",
              "    }\n",
              "</style>\n",
              "<table border=\"1\" class=\"dataframe\">\n",
              "  <thead>\n",
              "    <tr style=\"text-align: right;\">\n",
              "      <th></th>\n",
              "      <th>AT</th>\n",
              "      <th>V</th>\n",
              "      <th>AP</th>\n",
              "      <th>RH</th>\n",
              "      <th>PE</th>\n",
              "    </tr>\n",
              "  </thead>\n",
              "  <tbody>\n",
              "    <tr>\n",
              "      <th>0</th>\n",
              "      <td>14.96</td>\n",
              "      <td>41.76</td>\n",
              "      <td>1024.07</td>\n",
              "      <td>73.17</td>\n",
              "      <td>463.26</td>\n",
              "    </tr>\n",
              "    <tr>\n",
              "      <th>1</th>\n",
              "      <td>25.18</td>\n",
              "      <td>62.96</td>\n",
              "      <td>1020.04</td>\n",
              "      <td>59.08</td>\n",
              "      <td>444.37</td>\n",
              "    </tr>\n",
              "    <tr>\n",
              "      <th>2</th>\n",
              "      <td>5.11</td>\n",
              "      <td>39.40</td>\n",
              "      <td>1012.16</td>\n",
              "      <td>92.14</td>\n",
              "      <td>488.56</td>\n",
              "    </tr>\n",
              "    <tr>\n",
              "      <th>3</th>\n",
              "      <td>20.86</td>\n",
              "      <td>57.32</td>\n",
              "      <td>1010.24</td>\n",
              "      <td>76.64</td>\n",
              "      <td>446.48</td>\n",
              "    </tr>\n",
              "    <tr>\n",
              "      <th>4</th>\n",
              "      <td>10.82</td>\n",
              "      <td>37.50</td>\n",
              "      <td>1009.23</td>\n",
              "      <td>96.62</td>\n",
              "      <td>473.90</td>\n",
              "    </tr>\n",
              "  </tbody>\n",
              "</table>\n",
              "</div>\n",
              "      <button class=\"colab-df-convert\" onclick=\"convertToInteractive('df-90a8dc69-f9ed-4d0a-a48e-8295caaf406c')\"\n",
              "              title=\"Convert this dataframe to an interactive table.\"\n",
              "              style=\"display:none;\">\n",
              "        \n",
              "  <svg xmlns=\"http://www.w3.org/2000/svg\" height=\"24px\"viewBox=\"0 0 24 24\"\n",
              "       width=\"24px\">\n",
              "    <path d=\"M0 0h24v24H0V0z\" fill=\"none\"/>\n",
              "    <path d=\"M18.56 5.44l.94 2.06.94-2.06 2.06-.94-2.06-.94-.94-2.06-.94 2.06-2.06.94zm-11 1L8.5 8.5l.94-2.06 2.06-.94-2.06-.94L8.5 2.5l-.94 2.06-2.06.94zm10 10l.94 2.06.94-2.06 2.06-.94-2.06-.94-.94-2.06-.94 2.06-2.06.94z\"/><path d=\"M17.41 7.96l-1.37-1.37c-.4-.4-.92-.59-1.43-.59-.52 0-1.04.2-1.43.59L10.3 9.45l-7.72 7.72c-.78.78-.78 2.05 0 2.83L4 21.41c.39.39.9.59 1.41.59.51 0 1.02-.2 1.41-.59l7.78-7.78 2.81-2.81c.8-.78.8-2.07 0-2.86zM5.41 20L4 18.59l7.72-7.72 1.47 1.35L5.41 20z\"/>\n",
              "  </svg>\n",
              "      </button>\n",
              "      \n",
              "  <style>\n",
              "    .colab-df-container {\n",
              "      display:flex;\n",
              "      flex-wrap:wrap;\n",
              "      gap: 12px;\n",
              "    }\n",
              "\n",
              "    .colab-df-convert {\n",
              "      background-color: #E8F0FE;\n",
              "      border: none;\n",
              "      border-radius: 50%;\n",
              "      cursor: pointer;\n",
              "      display: none;\n",
              "      fill: #1967D2;\n",
              "      height: 32px;\n",
              "      padding: 0 0 0 0;\n",
              "      width: 32px;\n",
              "    }\n",
              "\n",
              "    .colab-df-convert:hover {\n",
              "      background-color: #E2EBFA;\n",
              "      box-shadow: 0px 1px 2px rgba(60, 64, 67, 0.3), 0px 1px 3px 1px rgba(60, 64, 67, 0.15);\n",
              "      fill: #174EA6;\n",
              "    }\n",
              "\n",
              "    [theme=dark] .colab-df-convert {\n",
              "      background-color: #3B4455;\n",
              "      fill: #D2E3FC;\n",
              "    }\n",
              "\n",
              "    [theme=dark] .colab-df-convert:hover {\n",
              "      background-color: #434B5C;\n",
              "      box-shadow: 0px 1px 3px 1px rgba(0, 0, 0, 0.15);\n",
              "      filter: drop-shadow(0px 1px 2px rgba(0, 0, 0, 0.3));\n",
              "      fill: #FFFFFF;\n",
              "    }\n",
              "  </style>\n",
              "\n",
              "      <script>\n",
              "        const buttonEl =\n",
              "          document.querySelector('#df-90a8dc69-f9ed-4d0a-a48e-8295caaf406c button.colab-df-convert');\n",
              "        buttonEl.style.display =\n",
              "          google.colab.kernel.accessAllowed ? 'block' : 'none';\n",
              "\n",
              "        async function convertToInteractive(key) {\n",
              "          const element = document.querySelector('#df-90a8dc69-f9ed-4d0a-a48e-8295caaf406c');\n",
              "          const dataTable =\n",
              "            await google.colab.kernel.invokeFunction('convertToInteractive',\n",
              "                                                     [key], {});\n",
              "          if (!dataTable) return;\n",
              "\n",
              "          const docLinkHtml = 'Like what you see? Visit the ' +\n",
              "            '<a target=\"_blank\" href=https://colab.research.google.com/notebooks/data_table.ipynb>data table notebook</a>'\n",
              "            + ' to learn more about interactive tables.';\n",
              "          element.innerHTML = '';\n",
              "          dataTable['output_type'] = 'display_data';\n",
              "          await google.colab.output.renderOutput(dataTable, element);\n",
              "          const docLink = document.createElement('div');\n",
              "          docLink.innerHTML = docLinkHtml;\n",
              "          element.appendChild(docLink);\n",
              "        }\n",
              "      </script>\n",
              "    </div>\n",
              "  </div>\n",
              "  "
            ]
          },
          "metadata": {},
          "execution_count": 85
        }
      ]
    },
    {
      "cell_type": "code",
      "source": [
        "df.isnull().sum()"
      ],
      "metadata": {
        "colab": {
          "base_uri": "https://localhost:8080/"
        },
        "id": "caeNuMULywEd",
        "outputId": "da176e4e-92ac-4545-902b-cda5d3ca376c"
      },
      "execution_count": 86,
      "outputs": [
        {
          "output_type": "execute_result",
          "data": {
            "text/plain": [
              "AT    0\n",
              "V     0\n",
              "AP    0\n",
              "RH    0\n",
              "PE    0\n",
              "dtype: int64"
            ]
          },
          "metadata": {},
          "execution_count": 86
        }
      ]
    },
    {
      "cell_type": "code",
      "source": [
        "sns.heatmap(df.corr(),annot=True)"
      ],
      "metadata": {
        "colab": {
          "base_uri": "https://localhost:8080/",
          "height": 286
        },
        "id": "cYFn530szCDw",
        "outputId": "cf1ba5dd-ecbe-4be2-9090-f4efd6dc29d6"
      },
      "execution_count": 87,
      "outputs": [
        {
          "output_type": "execute_result",
          "data": {
            "text/plain": [
              "<matplotlib.axes._subplots.AxesSubplot at 0x7f8dd420b100>"
            ]
          },
          "metadata": {},
          "execution_count": 87
        },
        {
          "output_type": "display_data",
          "data": {
            "text/plain": [
              "<Figure size 432x288 with 2 Axes>"
            ],
            "image/png": "[encoded data removed]"
          },
          "metadata": {
            "needs_background": "light"
          }
        }
      ]
    },
    {
      "cell_type": "code",
      "source": [
        "df1=df.loc[:,['AT','V','AP','PE']]"
      ],
      "metadata": {
        "id": "3yR6BALrzZFf"
      },
      "execution_count": 88,
      "outputs": []
    },
    {
      "cell_type": "code",
      "source": [
        "df1.head()"
      ],
      "metadata": {
        "colab": {
          "base_uri": "https://localhost:8080/",
          "height": 206
        },
        "id": "-oJOEDv0zuof",
        "outputId": "8d87791a-f9fe-46d4-acf1-06e831e13f1a"
      },
      "execution_count": 89,
      "outputs": [
        {
          "output_type": "execute_result",
          "data": {
            "text/plain": [
              "      AT      V       AP      PE\n",
              "0  14.96  41.76  1024.07  463.26\n",
              "1  25.18  62.96  1020.04  444.37\n",
              "2   5.11  39.40  1012.16  488.56\n",
              "3  20.86  57.32  1010.24  446.48\n",
              "4  10.82  37.50  1009.23  473.90"
            ],
            "text/html": [
              "\n",
              "  <div id=\"df-bcfd247a-7ed3-44c6-af38-51a0a914b85a\">\n",
              "    <div class=\"colab-df-container\">\n",
              "      <div>\n",
              "<style scoped>\n",
              "    .dataframe tbody tr th:only-of-type {\n",
              "        vertical-align: middle;\n",
              "    }\n",
              "\n",
              "    .dataframe tbody tr th {\n",
              "        vertical-align: top;\n",
              "    }\n",
              "\n",
              "    .dataframe thead th {\n",
              "        text-align: right;\n",
              "    }\n",
              "</style>\n",
              "<table border=\"1\" class=\"dataframe\">\n",
              "  <thead>\n",
              "    <tr style=\"text-align: right;\">\n",
              "      <th></th>\n",
              "      <th>AT</th>\n",
              "      <th>V</th>\n",
              "      <th>AP</th>\n",
              "      <th>PE</th>\n",
              "    </tr>\n",
              "  </thead>\n",
              "  <tbody>\n",
              "    <tr>\n",
              "      <th>0</th>\n",
              "      <td>14.96</td>\n",
              "      <td>41.76</td>\n",
              "      <td>1024.07</td>\n",
              "      <td>463.26</td>\n",
              "    </tr>\n",
              "    <tr>\n",
              "      <th>1</th>\n",
              "      <td>25.18</td>\n",
              "      <td>62.96</td>\n",
              "      <td>1020.04</td>\n",
              "      <td>444.37</td>\n",
              "    </tr>\n",
              "    <tr>\n",
              "      <th>2</th>\n",
              "      <td>5.11</td>\n",
              "      <td>39.40</td>\n",
              "      <td>1012.16</td>\n",
              "      <td>488.56</td>\n",
              "    </tr>\n",
              "    <tr>\n",
              "      <th>3</th>\n",
              "      <td>20.86</td>\n",
              "      <td>57.32</td>\n",
              "      <td>1010.24</td>\n",
              "      <td>446.48</td>\n",
              "    </tr>\n",
              "    <tr>\n",
              "      <th>4</th>\n",
              "      <td>10.82</td>\n",
              "      <td>37.50</td>\n",
              "      <td>1009.23</td>\n",
              "      <td>473.90</td>\n",
              "    </tr>\n",
              "  </tbody>\n",
              "</table>\n",
              "</div>\n",
              "      <button class=\"colab-df-convert\" onclick=\"convertToInteractive('df-bcfd247a-7ed3-44c6-af38-51a0a914b85a')\"\n",
              "              title=\"Convert this dataframe to an interactive table.\"\n",
              "              style=\"display:none;\">\n",
              "        \n",
              "  <svg xmlns=\"http://www.w3.org/2000/svg\" height=\"24px\"viewBox=\"0 0 24 24\"\n",
              "       width=\"24px\">\n",
              "    <path d=\"M0 0h24v24H0V0z\" fill=\"none\"/>\n",
              "    <path d=\"M18.56 5.44l.94 2.06.94-2.06 2.06-.94-2.06-.94-.94-2.06-.94 2.06-2.06.94zm-11 1L8.5 8.5l.94-2.06 2.06-.94-2.06-.94L8.5 2.5l-.94 2.06-2.06.94zm10 10l.94 2.06.94-2.06 2.06-.94-2.06-.94-.94-2.06-.94 2.06-2.06.94z\"/><path d=\"M17.41 7.96l-1.37-1.37c-.4-.4-.92-.59-1.43-.59-.52 0-1.04.2-1.43.59L10.3 9.45l-7.72 7.72c-.78.78-.78 2.05 0 2.83L4 21.41c.39.39.9.59 1.41.59.51 0 1.02-.2 1.41-.59l7.78-7.78 2.81-2.81c.8-.78.8-2.07 0-2.86zM5.41 20L4 18.59l7.72-7.72 1.47 1.35L5.41 20z\"/>\n",
              "  </svg>\n",
              "      </button>\n",
              "      \n",
              "  <style>\n",
              "    .colab-df-container {\n",
              "      display:flex;\n",
              "      flex-wrap:wrap;\n",
              "      gap: 12px;\n",
              "    }\n",
              "\n",
              "    .colab-df-convert {\n",
              "      background-color: #E8F0FE;\n",
              "      border: none;\n",
              "      border-radius: 50%;\n",
              "      cursor: pointer;\n",
              "      display: none;\n",
              "      fill: #1967D2;\n",
              "      height: 32px;\n",
              "      padding: 0 0 0 0;\n",
              "      width: 32px;\n",
              "    }\n",
              "\n",
              "    .colab-df-convert:hover {\n",
              "      background-color: #E2EBFA;\n",
              "      box-shadow: 0px 1px 2px rgba(60, 64, 67, 0.3), 0px 1px 3px 1px rgba(60, 64, 67, 0.15);\n",
              "      fill: #174EA6;\n",
              "    }\n",
              "\n",
              "    [theme=dark] .colab-df-convert {\n",
              "      background-color: #3B4455;\n",
              "      fill: #D2E3FC;\n",
              "    }\n",
              "\n",
              "    [theme=dark] .colab-df-convert:hover {\n",
              "      background-color: #434B5C;\n",
              "      box-shadow: 0px 1px 3px 1px rgba(0, 0, 0, 0.15);\n",
              "      filter: drop-shadow(0px 1px 2px rgba(0, 0, 0, 0.3));\n",
              "      fill: #FFFFFF;\n",
              "    }\n",
              "  </style>\n",
              "\n",
              "      <script>\n",
              "        const buttonEl =\n",
              "          document.querySelector('#df-bcfd247a-7ed3-44c6-af38-51a0a914b85a button.colab-df-convert');\n",
              "        buttonEl.style.display =\n",
              "          google.colab.kernel.accessAllowed ? 'block' : 'none';\n",
              "\n",
              "        async function convertToInteractive(key) {\n",
              "          const element = document.querySelector('#df-bcfd247a-7ed3-44c6-af38-51a0a914b85a');\n",
              "          const dataTable =\n",
              "            await google.colab.kernel.invokeFunction('convertToInteractive',\n",
              "                                                     [key], {});\n",
              "          if (!dataTable) return;\n",
              "\n",
              "          const docLinkHtml = 'Like what you see? Visit the ' +\n",
              "            '<a target=\"_blank\" href=https://colab.research.google.com/notebooks/data_table.ipynb>data table notebook</a>'\n",
              "            + ' to learn more about interactive tables.';\n",
              "          element.innerHTML = '';\n",
              "          dataTable['output_type'] = 'display_data';\n",
              "          await google.colab.output.renderOutput(dataTable, element);\n",
              "          const docLink = document.createElement('div');\n",
              "          docLink.innerHTML = docLinkHtml;\n",
              "          element.appendChild(docLink);\n",
              "        }\n",
              "      </script>\n",
              "    </div>\n",
              "  </div>\n",
              "  "
            ]
          },
          "metadata": {},
          "execution_count": 89
        }
      ]
    },
    {
      "cell_type": "markdown",
      "source": [
        "##Q2 Feature Scaling"
      ],
      "metadata": {
        "id": "S3v1An0IUZIA"
      }
    },
    {
      "cell_type": "code",
      "source": [
        "x=df1.iloc[:,0:3].values\n",
        "y=df1.iloc[:,3].values"
      ],
      "metadata": {
        "id": "SO6cuMLi0U2L"
      },
      "execution_count": 90,
      "outputs": []
    },
    {
      "cell_type": "code",
      "source": [
        "from sklearn.preprocessing import StandardScaler\n",
        "sc=StandardScaler()\n",
        "x=sc.fit_transform(x)"
      ],
      "metadata": {
        "id": "IiTXENrZ0cHz"
      },
      "execution_count": 91,
      "outputs": []
    },
    {
      "cell_type": "markdown",
      "source": [
        "##Q3 Split the dataset into the Training set and Test set"
      ],
      "metadata": {
        "id": "suSVCSUeURdQ"
      }
    },
    {
      "cell_type": "code",
      "source": [
        "from sklearn.model_selection import train_test_split\n",
        "x_train,x_test,y_train,y_test= train_test_split(x,y,test_size=0.33,random_state=50)"
      ],
      "metadata": {
        "id": "uo7Xc1LQUH8M"
      },
      "execution_count": 92,
      "outputs": []
    },
    {
      "cell_type": "markdown",
      "source": [
        "##Q4 Implement SVR"
      ],
      "metadata": {
        "id": "82DLSQZOVPan"
      }
    },
    {
      "cell_type": "code",
      "source": [
        "from sklearn.svm import SVR\n",
        "from sklearn.metrics import mean_squared_error , mean_absolute_error, r2_score"
      ],
      "metadata": {
        "id": "Fu0Wtc7k4PCG"
      },
      "execution_count": 93,
      "outputs": []
    },
    {
      "cell_type": "markdown",
      "source": [
        "###4a RBF Kernel"
      ],
      "metadata": {
        "id": "GG19wtonVwd4"
      }
    },
    {
      "cell_type": "code",
      "source": [
        "regressor=SVR(kernel='rbf').fit(x_train,y_train)"
      ],
      "metadata": {
        "id": "u8B-WQmM3_Y3"
      },
      "execution_count": 94,
      "outputs": []
    },
    {
      "cell_type": "code",
      "source": [
        "y_pred=regressor.predict(x_test)"
      ],
      "metadata": {
        "id": "OwMExCLB4qRD"
      },
      "execution_count": 95,
      "outputs": []
    },
    {
      "cell_type": "code",
      "source": [
        "l=[]\n",
        "r2=r2_score(y_test,y_pred)\n",
        "l.append(r2_score(y_test,y_pred))\n",
        "l.append(mean_squared_error(y_test,y_pred))\n",
        "l.append(mean_absolute_error(y_test,y_pred))\n",
        "n=len(x_train)\n",
        "k=x_train.shape[1]\n",
        "adjr2=1-((1-r2)*n/(n-k-1))\n",
        "l.append(adjr2)\n",
        "pd.DataFrame({'Metrics':['r2 score','MSE','MAE','Adjusted r2'],'Score':l})"
      ],
      "metadata": {
        "id": "MeqBFyhM4wZc",
        "colab": {
          "base_uri": "https://localhost:8080/",
          "height": 175
        },
        "outputId": "59d251f5-1103-44d4-bd13-5ace3fcd4ea3"
      },
      "execution_count": 96,
      "outputs": [
        {
          "output_type": "execute_result",
          "data": {
            "text/plain": [
              "       Metrics      Score\n",
              "0     r2 score   0.936057\n",
              "1          MSE  18.594015\n",
              "2          MAE   3.281594\n",
              "3  Adjusted r2   0.936017"
            ],
            "text/html": [
              "\n",
              "  <div id=\"df-2c3c714f-c45d-4d58-a070-43cb79351071\">\n",
              "    <div class=\"colab-df-container\">\n",
              "      <div>\n",
              "<style scoped>\n",
              "    .dataframe tbody tr th:only-of-type {\n",
              "        vertical-align: middle;\n",
              "    }\n",
              "\n",
              "    .dataframe tbody tr th {\n",
              "        vertical-align: top;\n",
              "    }\n",
              "\n",
              "    .dataframe thead th {\n",
              "        text-align: right;\n",
              "    }\n",
              "</style>\n",
              "<table border=\"1\" class=\"dataframe\">\n",
              "  <thead>\n",
              "    <tr style=\"text-align: right;\">\n",
              "      <th></th>\n",
              "      <th>Metrics</th>\n",
              "      <th>Score</th>\n",
              "    </tr>\n",
              "  </thead>\n",
              "  <tbody>\n",
              "    <tr>\n",
              "      <th>0</th>\n",
              "      <td>r2 score</td>\n",
              "      <td>0.936057</td>\n",
              "    </tr>\n",
              "    <tr>\n",
              "      <th>1</th>\n",
              "      <td>MSE</td>\n",
              "      <td>18.594015</td>\n",
              "    </tr>\n",
              "    <tr>\n",
              "      <th>2</th>\n",
              "      <td>MAE</td>\n",
              "      <td>3.281594</td>\n",
              "    </tr>\n",
              "    <tr>\n",
              "      <th>3</th>\n",
              "      <td>Adjusted r2</td>\n",
              "      <td>0.936017</td>\n",
              "    </tr>\n",
              "  </tbody>\n",
              "</table>\n",
              "</div>\n",
              "      <button class=\"colab-df-convert\" onclick=\"convertToInteractive('df-2c3c714f-c45d-4d58-a070-43cb79351071')\"\n",
              "              title=\"Convert this dataframe to an interactive table.\"\n",
              "              style=\"display:none;\">\n",
              "        \n",
              "  <svg xmlns=\"http://www.w3.org/2000/svg\" height=\"24px\"viewBox=\"0 0 24 24\"\n",
              "       width=\"24px\">\n",
              "    <path d=\"M0 0h24v24H0V0z\" fill=\"none\"/>\n",
              "    <path d=\"M18.56 5.44l.94 2.06.94-2.06 2.06-.94-2.06-.94-.94-2.06-.94 2.06-2.06.94zm-11 1L8.5 8.5l.94-2.06 2.06-.94-2.06-.94L8.5 2.5l-.94 2.06-2.06.94zm10 10l.94 2.06.94-2.06 2.06-.94-2.06-.94-.94-2.06-.94 2.06-2.06.94z\"/><path d=\"M17.41 7.96l-1.37-1.37c-.4-.4-.92-.59-1.43-.59-.52 0-1.04.2-1.43.59L10.3 9.45l-7.72 7.72c-.78.78-.78 2.05 0 2.83L4 21.41c.39.39.9.59 1.41.59.51 0 1.02-.2 1.41-.59l7.78-7.78 2.81-2.81c.8-.78.8-2.07 0-2.86zM5.41 20L4 18.59l7.72-7.72 1.47 1.35L5.41 20z\"/>\n",
              "  </svg>\n",
              "      </button>\n",
              "      \n",
              "  <style>\n",
              "    .colab-df-container {\n",
              "      display:flex;\n",
              "      flex-wrap:wrap;\n",
              "      gap: 12px;\n",
              "    }\n",
              "\n",
              "    .colab-df-convert {\n",
              "      background-color: #E8F0FE;\n",
              "      border: none;\n",
              "      border-radius: 50%;\n",
              "      cursor: pointer;\n",
              "      display: none;\n",
              "      fill: #1967D2;\n",
              "      height: 32px;\n",
              "      padding: 0 0 0 0;\n",
              "      width: 32px;\n",
              "    }\n",
              "\n",
              "    .colab-df-convert:hover {\n",
              "      background-color: #E2EBFA;\n",
              "      box-shadow: 0px 1px 2px rgba(60, 64, 67, 0.3), 0px 1px 3px 1px rgba(60, 64, 67, 0.15);\n",
              "      fill: #174EA6;\n",
              "    }\n",
              "\n",
              "    [theme=dark] .colab-df-convert {\n",
              "      background-color: #3B4455;\n",
              "      fill: #D2E3FC;\n",
              "    }\n",
              "\n",
              "    [theme=dark] .colab-df-convert:hover {\n",
              "      background-color: #434B5C;\n",
              "      box-shadow: 0px 1px 3px 1px rgba(0, 0, 0, 0.15);\n",
              "      filter: drop-shadow(0px 1px 2px rgba(0, 0, 0, 0.3));\n",
              "      fill: #FFFFFF;\n",
              "    }\n",
              "  </style>\n",
              "\n",
              "      <script>\n",
              "        const buttonEl =\n",
              "          document.querySelector('#df-2c3c714f-c45d-4d58-a070-43cb79351071 button.colab-df-convert');\n",
              "        buttonEl.style.display =\n",
              "          google.colab.kernel.accessAllowed ? 'block' : 'none';\n",
              "\n",
              "        async function convertToInteractive(key) {\n",
              "          const element = document.querySelector('#df-2c3c714f-c45d-4d58-a070-43cb79351071');\n",
              "          const dataTable =\n",
              "            await google.colab.kernel.invokeFunction('convertToInteractive',\n",
              "                                                     [key], {});\n",
              "          if (!dataTable) return;\n",
              "\n",
              "          const docLinkHtml = 'Like what you see? Visit the ' +\n",
              "            '<a target=\"_blank\" href=https://colab.research.google.com/notebooks/data_table.ipynb>data table notebook</a>'\n",
              "            + ' to learn more about interactive tables.';\n",
              "          element.innerHTML = '';\n",
              "          dataTable['output_type'] = 'display_data';\n",
              "          await google.colab.output.renderOutput(dataTable, element);\n",
              "          const docLink = document.createElement('div');\n",
              "          docLink.innerHTML = docLinkHtml;\n",
              "          element.appendChild(docLink);\n",
              "        }\n",
              "      </script>\n",
              "    </div>\n",
              "  </div>\n",
              "  "
            ]
          },
          "metadata": {},
          "execution_count": 96
        }
      ]
    },
    {
      "cell_type": "markdown",
      "source": [
        "###4b Linear Kernel"
      ],
      "metadata": {
        "id": "1mWA91epV0rH"
      }
    },
    {
      "cell_type": "code",
      "source": [
        "regressor=SVR(kernel='linear').fit(x_train,y_train)"
      ],
      "metadata": {
        "id": "KracDt3v4-__"
      },
      "execution_count": 97,
      "outputs": []
    },
    {
      "cell_type": "code",
      "source": [
        "y_pred=regressor.predict(x_test)"
      ],
      "metadata": {
        "id": "yVx-Sbee5HtK"
      },
      "execution_count": 98,
      "outputs": []
    },
    {
      "cell_type": "code",
      "source": [
        "l=[]\n",
        "r2=r2_score(y_test,y_pred)\n",
        "l.append(r2_score(y_test,y_pred))\n",
        "l.append(mean_squared_error(y_test,y_pred))\n",
        "l.append(mean_absolute_error(y_test,y_pred))\n",
        "n=len(x_train)\n",
        "k=x_train.shape[1]\n",
        "adjr2=1-((1-r2)*n/(n-k-1))\n",
        "l.append(adjr2)\n",
        "pd.DataFrame({'Metrics':['r2 score','MSE','MAE','Adjusted r square'],'Score':l})"
      ],
      "metadata": {
        "colab": {
          "base_uri": "https://localhost:8080/",
          "height": 175
        },
        "id": "-oVQfKIK-TpQ",
        "outputId": "706e3e5f-5a48-4e72-9f88-87e1b51e0a12"
      },
      "execution_count": 99,
      "outputs": [
        {
          "output_type": "execute_result",
          "data": {
            "text/plain": [
              "             Metrics      Score\n",
              "0           r2 score   0.917514\n",
              "1                MSE  23.986347\n",
              "2                MAE   3.864140\n",
              "3  Adjusted r square   0.917462"
            ],
            "text/html": [
              "\n",
              "  <div id=\"df-12b7baf7-10fa-4cfb-af93-3c8c732ecb4d\">\n",
              "    <div class=\"colab-df-container\">\n",
              "      <div>\n",
              "<style scoped>\n",
              "    .dataframe tbody tr th:only-of-type {\n",
              "        vertical-align: middle;\n",
              "    }\n",
              "\n",
              "    .dataframe tbody tr th {\n",
              "        vertical-align: top;\n",
              "    }\n",
              "\n",
              "    .dataframe thead th {\n",
              "        text-align: right;\n",
              "    }\n",
              "</style>\n",
              "<table border=\"1\" class=\"dataframe\">\n",
              "  <thead>\n",
              "    <tr style=\"text-align: right;\">\n",
              "      <th></th>\n",
              "      <th>Metrics</th>\n",
              "      <th>Score</th>\n",
              "    </tr>\n",
              "  </thead>\n",
              "  <tbody>\n",
              "    <tr>\n",
              "      <th>0</th>\n",
              "      <td>r2 score</td>\n",
              "      <td>0.917514</td>\n",
              "    </tr>\n",
              "    <tr>\n",
              "      <th>1</th>\n",
              "      <td>MSE</td>\n",
              "      <td>23.986347</td>\n",
              "    </tr>\n",
              "    <tr>\n",
              "      <th>2</th>\n",
              "      <td>MAE</td>\n",
              "      <td>3.864140</td>\n",
              "    </tr>\n",
              "    <tr>\n",
              "      <th>3</th>\n",
              "      <td>Adjusted r square</td>\n",
              "      <td>0.917462</td>\n",
              "    </tr>\n",
              "  </tbody>\n",
              "</table>\n",
              "</div>\n",
              "      <button class=\"colab-df-convert\" onclick=\"convertToInteractive('df-12b7baf7-10fa-4cfb-af93-3c8c732ecb4d')\"\n",
              "              title=\"Convert this dataframe to an interactive table.\"\n",
              "              style=\"display:none;\">\n",
              "        \n",
              "  <svg xmlns=\"http://www.w3.org/2000/svg\" height=\"24px\"viewBox=\"0 0 24 24\"\n",
              "       width=\"24px\">\n",
              "    <path d=\"M0 0h24v24H0V0z\" fill=\"none\"/>\n",
              "    <path d=\"M18.56 5.44l.94 2.06.94-2.06 2.06-.94-2.06-.94-.94-2.06-.94 2.06-2.06.94zm-11 1L8.5 8.5l.94-2.06 2.06-.94-2.06-.94L8.5 2.5l-.94 2.06-2.06.94zm10 10l.94 2.06.94-2.06 2.06-.94-2.06-.94-.94-2.06-.94 2.06-2.06.94z\"/><path d=\"M17.41 7.96l-1.37-1.37c-.4-.4-.92-.59-1.43-.59-.52 0-1.04.2-1.43.59L10.3 9.45l-7.72 7.72c-.78.78-.78 2.05 0 2.83L4 21.41c.39.39.9.59 1.41.59.51 0 1.02-.2 1.41-.59l7.78-7.78 2.81-2.81c.8-.78.8-2.07 0-2.86zM5.41 20L4 18.59l7.72-7.72 1.47 1.35L5.41 20z\"/>\n",
              "  </svg>\n",
              "      </button>\n",
              "      \n",
              "  <style>\n",
              "    .colab-df-container {\n",
              "      display:flex;\n",
              "      flex-wrap:wrap;\n",
              "      gap: 12px;\n",
              "    }\n",
              "\n",
              "    .colab-df-convert {\n",
              "      background-color: #E8F0FE;\n",
              "      border: none;\n",
              "      border-radius: 50%;\n",
              "      cursor: pointer;\n",
              "      display: none;\n",
              "      fill: #1967D2;\n",
              "      height: 32px;\n",
              "      padding: 0 0 0 0;\n",
              "      width: 32px;\n",
              "    }\n",
              "\n",
              "    .colab-df-convert:hover {\n",
              "      background-color: #E2EBFA;\n",
              "      box-shadow: 0px 1px 2px rgba(60, 64, 67, 0.3), 0px 1px 3px 1px rgba(60, 64, 67, 0.15);\n",
              "      fill: #174EA6;\n",
              "    }\n",
              "\n",
              "    [theme=dark] .colab-df-convert {\n",
              "      background-color: #3B4455;\n",
              "      fill: #D2E3FC;\n",
              "    }\n",
              "\n",
              "    [theme=dark] .colab-df-convert:hover {\n",
              "      background-color: #434B5C;\n",
              "      box-shadow: 0px 1px 3px 1px rgba(0, 0, 0, 0.15);\n",
              "      filter: drop-shadow(0px 1px 2px rgba(0, 0, 0, 0.3));\n",
              "      fill: #FFFFFF;\n",
              "    }\n",
              "  </style>\n",
              "\n",
              "      <script>\n",
              "        const buttonEl =\n",
              "          document.querySelector('#df-12b7baf7-10fa-4cfb-af93-3c8c732ecb4d button.colab-df-convert');\n",
              "        buttonEl.style.display =\n",
              "          google.colab.kernel.accessAllowed ? 'block' : 'none';\n",
              "\n",
              "        async function convertToInteractive(key) {\n",
              "          const element = document.querySelector('#df-12b7baf7-10fa-4cfb-af93-3c8c732ecb4d');\n",
              "          const dataTable =\n",
              "            await google.colab.kernel.invokeFunction('convertToInteractive',\n",
              "                                                     [key], {});\n",
              "          if (!dataTable) return;\n",
              "\n",
              "          const docLinkHtml = 'Like what you see? Visit the ' +\n",
              "            '<a target=\"_blank\" href=https://colab.research.google.com/notebooks/data_table.ipynb>data table notebook</a>'\n",
              "            + ' to learn more about interactive tables.';\n",
              "          element.innerHTML = '';\n",
              "          dataTable['output_type'] = 'display_data';\n",
              "          await google.colab.output.renderOutput(dataTable, element);\n",
              "          const docLink = document.createElement('div');\n",
              "          docLink.innerHTML = docLinkHtml;\n",
              "          element.appendChild(docLink);\n",
              "        }\n",
              "      </script>\n",
              "    </div>\n",
              "  </div>\n",
              "  "
            ]
          },
          "metadata": {},
          "execution_count": 99
        }
      ]
    },
    {
      "cell_type": "code",
      "source": [
        "len(x_train)"
      ],
      "metadata": {
        "colab": {
          "base_uri": "https://localhost:8080/"
        },
        "id": "LTArjBe1DA74",
        "outputId": "af1dbc68-67b4-4ea1-ce91-c932b839a34c"
      },
      "execution_count": 100,
      "outputs": [
        {
          "output_type": "execute_result",
          "data": {
            "text/plain": [
              "6410"
            ]
          },
          "metadata": {},
          "execution_count": 100
        }
      ]
    },
    {
      "cell_type": "code",
      "source": [
        "df1.shape[0]"
      ],
      "metadata": {
        "colab": {
          "base_uri": "https://localhost:8080/"
        },
        "id": "44IB4bQKDF6W",
        "outputId": "0ce43c85-7a0b-4d9a-d50f-bfaa444e61ee"
      },
      "execution_count": 101,
      "outputs": [
        {
          "output_type": "execute_result",
          "data": {
            "text/plain": [
              "9568"
            ]
          },
          "metadata": {},
          "execution_count": 101
        }
      ]
    },
    {
      "cell_type": "markdown",
      "source": [
        "###4c Polynomial Kernel"
      ],
      "metadata": {
        "id": "HBZpfov-V5lZ"
      }
    },
    {
      "cell_type": "code",
      "source": [
        "regressor=SVR(kernel='poly').fit(x_train,y_train)"
      ],
      "metadata": {
        "id": "vAkXUO2W55wl"
      },
      "execution_count": 102,
      "outputs": []
    },
    {
      "cell_type": "code",
      "source": [
        "y_pred=regressor.predict(x_test)"
      ],
      "metadata": {
        "id": "CRyWiPI36Ap6"
      },
      "execution_count": 103,
      "outputs": []
    },
    {
      "cell_type": "code",
      "source": [
        "l=[]\n",
        "r2=r2_score(y_test,y_pred)\n",
        "l.append(r2_score(y_test,y_pred))\n",
        "l.append(mean_squared_error(y_test,y_pred))\n",
        "l.append(mean_absolute_error(y_test,y_pred))\n",
        "n=len(x_train)\n",
        "k=x_train.shape[1]\n",
        "adjr2=1-((1-r2)*n/(n-k-1))\n",
        "l.append(adjr2)\n",
        "pd.DataFrame({'Metrics':['r2 score','MSE','MAE','Adjusted r2'],'Score':l})"
      ],
      "metadata": {
        "colab": {
          "base_uri": "https://localhost:8080/",
          "height": 175
        },
        "id": "R6_WbW6V-XDn",
        "outputId": "06a2eb02-a2ac-41ab-c406-17ac5debc42c"
      },
      "execution_count": 104,
      "outputs": [
        {
          "output_type": "execute_result",
          "data": {
            "text/plain": [
              "       Metrics      Score\n",
              "0     r2 score   0.749825\n",
              "1          MSE  72.748691\n",
              "2          MAE   6.560483\n",
              "3  Adjusted r2   0.749669"
            ],
            "text/html": [
              "\n",
              "  <div id=\"df-90d0b0f0-22be-4cf1-be0e-4f775cf7a95a\">\n",
              "    <div class=\"colab-df-container\">\n",
              "      <div>\n",
              "<style scoped>\n",
              "    .dataframe tbody tr th:only-of-type {\n",
              "        vertical-align: middle;\n",
              "    }\n",
              "\n",
              "    .dataframe tbody tr th {\n",
              "        vertical-align: top;\n",
              "    }\n",
              "\n",
              "    .dataframe thead th {\n",
              "        text-align: right;\n",
              "    }\n",
              "</style>\n",
              "<table border=\"1\" class=\"dataframe\">\n",
              "  <thead>\n",
              "    <tr style=\"text-align: right;\">\n",
              "      <th></th>\n",
              "      <th>Metrics</th>\n",
              "      <th>Score</th>\n",
              "    </tr>\n",
              "  </thead>\n",
              "  <tbody>\n",
              "    <tr>\n",
              "      <th>0</th>\n",
              "      <td>r2 score</td>\n",
              "      <td>0.749825</td>\n",
              "    </tr>\n",
              "    <tr>\n",
              "      <th>1</th>\n",
              "      <td>MSE</td>\n",
              "      <td>72.748691</td>\n",
              "    </tr>\n",
              "    <tr>\n",
              "      <th>2</th>\n",
              "      <td>MAE</td>\n",
              "      <td>6.560483</td>\n",
              "    </tr>\n",
              "    <tr>\n",
              "      <th>3</th>\n",
              "      <td>Adjusted r2</td>\n",
              "      <td>0.749669</td>\n",
              "    </tr>\n",
              "  </tbody>\n",
              "</table>\n",
              "</div>\n",
              "      <button class=\"colab-df-convert\" onclick=\"convertToInteractive('df-90d0b0f0-22be-4cf1-be0e-4f775cf7a95a')\"\n",
              "              title=\"Convert this dataframe to an interactive table.\"\n",
              "              style=\"display:none;\">\n",
              "        \n",
              "  <svg xmlns=\"http://www.w3.org/2000/svg\" height=\"24px\"viewBox=\"0 0 24 24\"\n",
              "       width=\"24px\">\n",
              "    <path d=\"M0 0h24v24H0V0z\" fill=\"none\"/>\n",
              "    <path d=\"M18.56 5.44l.94 2.06.94-2.06 2.06-.94-2.06-.94-.94-2.06-.94 2.06-2.06.94zm-11 1L8.5 8.5l.94-2.06 2.06-.94-2.06-.94L8.5 2.5l-.94 2.06-2.06.94zm10 10l.94 2.06.94-2.06 2.06-.94-2.06-.94-.94-2.06-.94 2.06-2.06.94z\"/><path d=\"M17.41 7.96l-1.37-1.37c-.4-.4-.92-.59-1.43-.59-.52 0-1.04.2-1.43.59L10.3 9.45l-7.72 7.72c-.78.78-.78 2.05 0 2.83L4 21.41c.39.39.9.59 1.41.59.51 0 1.02-.2 1.41-.59l7.78-7.78 2.81-2.81c.8-.78.8-2.07 0-2.86zM5.41 20L4 18.59l7.72-7.72 1.47 1.35L5.41 20z\"/>\n",
              "  </svg>\n",
              "      </button>\n",
              "      \n",
              "  <style>\n",
              "    .colab-df-container {\n",
              "      display:flex;\n",
              "      flex-wrap:wrap;\n",
              "      gap: 12px;\n",
              "    }\n",
              "\n",
              "    .colab-df-convert {\n",
              "      background-color: #E8F0FE;\n",
              "      border: none;\n",
              "      border-radius: 50%;\n",
              "      cursor: pointer;\n",
              "      display: none;\n",
              "      fill: #1967D2;\n",
              "      height: 32px;\n",
              "      padding: 0 0 0 0;\n",
              "      width: 32px;\n",
              "    }\n",
              "\n",
              "    .colab-df-convert:hover {\n",
              "      background-color: #E2EBFA;\n",
              "      box-shadow: 0px 1px 2px rgba(60, 64, 67, 0.3), 0px 1px 3px 1px rgba(60, 64, 67, 0.15);\n",
              "      fill: #174EA6;\n",
              "    }\n",
              "\n",
              "    [theme=dark] .colab-df-convert {\n",
              "      background-color: #3B4455;\n",
              "      fill: #D2E3FC;\n",
              "    }\n",
              "\n",
              "    [theme=dark] .colab-df-convert:hover {\n",
              "      background-color: #434B5C;\n",
              "      box-shadow: 0px 1px 3px 1px rgba(0, 0, 0, 0.15);\n",
              "      filter: drop-shadow(0px 1px 2px rgba(0, 0, 0, 0.3));\n",
              "      fill: #FFFFFF;\n",
              "    }\n",
              "  </style>\n",
              "\n",
              "      <script>\n",
              "        const buttonEl =\n",
              "          document.querySelector('#df-90d0b0f0-22be-4cf1-be0e-4f775cf7a95a button.colab-df-convert');\n",
              "        buttonEl.style.display =\n",
              "          google.colab.kernel.accessAllowed ? 'block' : 'none';\n",
              "\n",
              "        async function convertToInteractive(key) {\n",
              "          const element = document.querySelector('#df-90d0b0f0-22be-4cf1-be0e-4f775cf7a95a');\n",
              "          const dataTable =\n",
              "            await google.colab.kernel.invokeFunction('convertToInteractive',\n",
              "                                                     [key], {});\n",
              "          if (!dataTable) return;\n",
              "\n",
              "          const docLinkHtml = 'Like what you see? Visit the ' +\n",
              "            '<a target=\"_blank\" href=https://colab.research.google.com/notebooks/data_table.ipynb>data table notebook</a>'\n",
              "            + ' to learn more about interactive tables.';\n",
              "          element.innerHTML = '';\n",
              "          dataTable['output_type'] = 'display_data';\n",
              "          await google.colab.output.renderOutput(dataTable, element);\n",
              "          const docLink = document.createElement('div');\n",
              "          docLink.innerHTML = docLinkHtml;\n",
              "          element.appendChild(docLink);\n",
              "        }\n",
              "      </script>\n",
              "    </div>\n",
              "  </div>\n",
              "  "
            ]
          },
          "metadata": {},
          "execution_count": 104
        }
      ]
    },
    {
      "cell_type": "markdown",
      "source": [
        "###4d Sigmoid Kernel"
      ],
      "metadata": {
        "id": "DXmWtBHOV88n"
      }
    },
    {
      "cell_type": "code",
      "source": [
        "regressor=SVR(kernel='sigmoid').fit(x_train,y_train)"
      ],
      "metadata": {
        "id": "KOFmjwF26HXk"
      },
      "execution_count": 105,
      "outputs": []
    },
    {
      "cell_type": "code",
      "source": [
        "y_pred=regressor.predict(x_test)"
      ],
      "metadata": {
        "id": "U0tMSVpr6Pmf"
      },
      "execution_count": 106,
      "outputs": []
    },
    {
      "cell_type": "code",
      "source": [
        "l=[]\n",
        "r2=r2_score(y_test,y_pred)\n",
        "l.append(r2_score(y_test,y_pred))\n",
        "l.append(mean_squared_error(y_test,y_pred))\n",
        "l.append(mean_absolute_error(y_test,y_pred))\n",
        "n=len(x_train)\n",
        "k=x_train.shape[1]\n",
        "adjr2=1-((1-r2)*n/(n-k-1))\n",
        "l.append(adjr2)\n",
        "pd.DataFrame({'Metrics':['r2 score','MSE','MAE','Adjusted r2'],'Score':l})"
      ],
      "metadata": {
        "colab": {
          "base_uri": "https://localhost:8080/",
          "height": 175
        },
        "id": "czQb0hz8AABJ",
        "outputId": "eda7e7f6-8c47-4a0c-f423-42408d521866"
      },
      "execution_count": 107,
      "outputs": [
        {
          "output_type": "execute_result",
          "data": {
            "text/plain": [
              "       Metrics         Score\n",
              "0     r2 score   -106.402743\n",
              "1          MSE  31231.828520\n",
              "2          MAE    133.465280\n",
              "3  Adjusted r2   -106.469807"
            ],
            "text/html": [
              "\n",
              "  <div id=\"df-7ae2c336-361a-43ac-a6d8-eed6ef437e18\">\n",
              "    <div class=\"colab-df-container\">\n",
              "      <div>\n",
              "<style scoped>\n",
              "    .dataframe tbody tr th:only-of-type {\n",
              "        vertical-align: middle;\n",
              "    }\n",
              "\n",
              "    .dataframe tbody tr th {\n",
              "        vertical-align: top;\n",
              "    }\n",
              "\n",
              "    .dataframe thead th {\n",
              "        text-align: right;\n",
              "    }\n",
              "</style>\n",
              "<table border=\"1\" class=\"dataframe\">\n",
              "  <thead>\n",
              "    <tr style=\"text-align: right;\">\n",
              "      <th></th>\n",
              "      <th>Metrics</th>\n",
              "      <th>Score</th>\n",
              "    </tr>\n",
              "  </thead>\n",
              "  <tbody>\n",
              "    <tr>\n",
              "      <th>0</th>\n",
              "      <td>r2 score</td>\n",
              "      <td>-106.402743</td>\n",
              "    </tr>\n",
              "    <tr>\n",
              "      <th>1</th>\n",
              "      <td>MSE</td>\n",
              "      <td>31231.828520</td>\n",
              "    </tr>\n",
              "    <tr>\n",
              "      <th>2</th>\n",
              "      <td>MAE</td>\n",
              "      <td>133.465280</td>\n",
              "    </tr>\n",
              "    <tr>\n",
              "      <th>3</th>\n",
              "      <td>Adjusted r2</td>\n",
              "      <td>-106.469807</td>\n",
              "    </tr>\n",
              "  </tbody>\n",
              "</table>\n",
              "</div>\n",
              "      <button class=\"colab-df-convert\" onclick=\"convertToInteractive('df-7ae2c336-361a-43ac-a6d8-eed6ef437e18')\"\n",
              "              title=\"Convert this dataframe to an interactive table.\"\n",
              "              style=\"display:none;\">\n",
              "        \n",
              "  <svg xmlns=\"http://www.w3.org/2000/svg\" height=\"24px\"viewBox=\"0 0 24 24\"\n",
              "       width=\"24px\">\n",
              "    <path d=\"M0 0h24v24H0V0z\" fill=\"none\"/>\n",
              "    <path d=\"M18.56 5.44l.94 2.06.94-2.06 2.06-.94-2.06-.94-.94-2.06-.94 2.06-2.06.94zm-11 1L8.5 8.5l.94-2.06 2.06-.94-2.06-.94L8.5 2.5l-.94 2.06-2.06.94zm10 10l.94 2.06.94-2.06 2.06-.94-2.06-.94-.94-2.06-.94 2.06-2.06.94z\"/><path d=\"M17.41 7.96l-1.37-1.37c-.4-.4-.92-.59-1.43-.59-.52 0-1.04.2-1.43.59L10.3 9.45l-7.72 7.72c-.78.78-.78 2.05 0 2.83L4 21.41c.39.39.9.59 1.41.59.51 0 1.02-.2 1.41-.59l7.78-7.78 2.81-2.81c.8-.78.8-2.07 0-2.86zM5.41 20L4 18.59l7.72-7.72 1.47 1.35L5.41 20z\"/>\n",
              "  </svg>\n",
              "      </button>\n",
              "      \n",
              "  <style>\n",
              "    .colab-df-container {\n",
              "      display:flex;\n",
              "      flex-wrap:wrap;\n",
              "      gap: 12px;\n",
              "    }\n",
              "\n",
              "    .colab-df-convert {\n",
              "      background-color: #E8F0FE;\n",
              "      border: none;\n",
              "      border-radius: 50%;\n",
              "      cursor: pointer;\n",
              "      display: none;\n",
              "      fill: #1967D2;\n",
              "      height: 32px;\n",
              "      padding: 0 0 0 0;\n",
              "      width: 32px;\n",
              "    }\n",
              "\n",
              "    .colab-df-convert:hover {\n",
              "      background-color: #E2EBFA;\n",
              "      box-shadow: 0px 1px 2px rgba(60, 64, 67, 0.3), 0px 1px 3px 1px rgba(60, 64, 67, 0.15);\n",
              "      fill: #174EA6;\n",
              "    }\n",
              "\n",
              "    [theme=dark] .colab-df-convert {\n",
              "      background-color: #3B4455;\n",
              "      fill: #D2E3FC;\n",
              "    }\n",
              "\n",
              "    [theme=dark] .colab-df-convert:hover {\n",
              "      background-color: #434B5C;\n",
              "      box-shadow: 0px 1px 3px 1px rgba(0, 0, 0, 0.15);\n",
              "      filter: drop-shadow(0px 1px 2px rgba(0, 0, 0, 0.3));\n",
              "      fill: #FFFFFF;\n",
              "    }\n",
              "  </style>\n",
              "\n",
              "      <script>\n",
              "        const buttonEl =\n",
              "          document.querySelector('#df-7ae2c336-361a-43ac-a6d8-eed6ef437e18 button.colab-df-convert');\n",
              "        buttonEl.style.display =\n",
              "          google.colab.kernel.accessAllowed ? 'block' : 'none';\n",
              "\n",
              "        async function convertToInteractive(key) {\n",
              "          const element = document.querySelector('#df-7ae2c336-361a-43ac-a6d8-eed6ef437e18');\n",
              "          const dataTable =\n",
              "            await google.colab.kernel.invokeFunction('convertToInteractive',\n",
              "                                                     [key], {});\n",
              "          if (!dataTable) return;\n",
              "\n",
              "          const docLinkHtml = 'Like what you see? Visit the ' +\n",
              "            '<a target=\"_blank\" href=https://colab.research.google.com/notebooks/data_table.ipynb>data table notebook</a>'\n",
              "            + ' to learn more about interactive tables.';\n",
              "          element.innerHTML = '';\n",
              "          dataTable['output_type'] = 'display_data';\n",
              "          await google.colab.output.renderOutput(dataTable, element);\n",
              "          const docLink = document.createElement('div');\n",
              "          docLink.innerHTML = docLinkHtml;\n",
              "          element.appendChild(docLink);\n",
              "        }\n",
              "      </script>\n",
              "    </div>\n",
              "  </div>\n",
              "  "
            ]
          },
          "metadata": {},
          "execution_count": 107
        }
      ]
    },
    {
      "cell_type": "markdown",
      "source": [
        "## Model does not train well if Sigmoid kernel is used."
      ],
      "metadata": {
        "id": "wf1h1RlOCqRw"
      }
    },
    {
      "cell_type": "markdown",
      "source": [
        "\n",
        "\n",
        "---\n",
        "\n",
        "\n",
        "\n",
        "---\n",
        "\n",
        "\n",
        "\n",
        "---\n",
        "\n"
      ],
      "metadata": {
        "id": "LGMID_0ZCVGM"
      }
    },
    {
      "cell_type": "code",
      "source": [
        "model = sm.OLS(y_train,x_train).fit()\n"
      ],
      "metadata": {
        "id": "G7esmXll8qQ_"
      },
      "execution_count": 108,
      "outputs": []
    },
    {
      "cell_type": "code",
      "source": [
        "model.predict(x_test)"
      ],
      "metadata": {
        "colab": {
          "base_uri": "https://localhost:8080/"
        },
        "id": "QSByDqliBskj",
        "outputId": "4ac8a4cb-ac15-4653-8b83-67d8f83f617a"
      },
      "execution_count": 112,
      "outputs": [
        {
          "output_type": "execute_result",
          "data": {
            "text/plain": [
              "array([  7.77195233,  29.16834711,  35.62285599, ..., -15.41136633,\n",
              "        29.37446318, -18.61271994])"
            ]
          },
          "metadata": {},
          "execution_count": 112
        }
      ]
    },
    {
      "cell_type": "code",
      "source": [
        "model.rsquared_adj"
      ],
      "metadata": {
        "colab": {
          "base_uri": "https://localhost:8080/"
        },
        "id": "_glRf_fx8-w-",
        "outputId": "01dbac37-0df0-47f0-922d-4ebaf0b21eb9"
      },
      "execution_count": 113,
      "outputs": [
        {
          "output_type": "execute_result",
          "data": {
            "text/plain": [
              "0.0017207932577405494"
            ]
          },
          "metadata": {},
          "execution_count": 113
        }
      ]
    },
    {
      "cell_type": "code",
      "source": [
        "model.rsquared"
      ],
      "metadata": {
        "colab": {
          "base_uri": "https://localhost:8080/"
        },
        "id": "k6pqgqAh9wXS",
        "outputId": "9430ce19-9462-47ff-97ae-e03ff6906c6b"
      },
      "execution_count": 114,
      "outputs": [
        {
          "output_type": "execute_result",
          "data": {
            "text/plain": [
              "0.002188006615030158"
            ]
          },
          "metadata": {},
          "execution_count": 114
        }
      ]
    }
  ]
}