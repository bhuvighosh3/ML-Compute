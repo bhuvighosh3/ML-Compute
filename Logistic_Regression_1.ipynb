{
  "cells": [
    {
      "cell_type": "markdown",
      "metadata": {
        "id": "view-in-github",
        "colab_type": "text"
      },
      "source": [
        "<a href=\"https://colab.research.google.com/github/bhuvighosh3/ML-Compute/blob/main/Logistic_Regression_1.ipynb\" target=\"_parent\"><img src=\"https://colab.research.google.com/assets/colab-badge.svg\" alt=\"Open In Colab\"/></a>"
      ]
    },
    {
      "cell_type": "code",
      "execution_count": null,
      "id": "f3e598a8",
      "metadata": {
        "id": "f3e598a8"
      },
      "outputs": [],
      "source": [
        "import pandas as pd\n",
        "import numpy as np\n",
        "import statsmodels.api as sm\n",
        "import scipy.stats as st\n",
        "import matplotlib.pyplot as plt\n",
        "import seaborn as sns\n",
        "from sklearn.metrics import confusion_matrix\n",
        "import matplotlib.mlab as mlab\n",
        "%matplotlib inline"
      ]
    },
    {
      "cell_type": "markdown",
      "source": [
        "###Q1 Import the dataset and try to understand what information each column is giving. What is our target variable? Is this a classification or regression problem?\n",
        "\n",
        "Dataset link: https://drive.google.com/file/d/1A-iAsI3MUU6o9oh5AE1NG1kVU5KD60Ms/view?usp=sharing\n"
      ],
      "metadata": {
        "id": "lpvkZBRBTjWy"
      },
      "id": "lpvkZBRBTjWy"
    },
    {
      "cell_type": "code",
      "source": [
        "df=pd.read_csv('/content/heart_study.csv')"
      ],
      "metadata": {
        "id": "Tk7yD3E2bPct"
      },
      "id": "Tk7yD3E2bPct",
      "execution_count": null,
      "outputs": []
    },
    {
      "cell_type": "code",
      "source": [
        "df.head()"
      ],
      "metadata": {
        "colab": {
          "base_uri": "https://localhost:8080/",
          "height": 270
        },
        "id": "2uO7U0s3hsns",
        "outputId": "927e2ff3-a126-490a-fe29-f708b0b89b2b"
      },
      "id": "2uO7U0s3hsns",
      "execution_count": null,
      "outputs": [
        {
          "output_type": "execute_result",
          "data": {
            "text/plain": [
              "   male  age  education  currentSmoker  cigsPerDay  BPMeds  prevalentStroke  \\\n",
              "0     1   39        4.0              0         0.0     0.0                0   \n",
              "1     0   46        2.0              0         0.0     0.0                0   \n",
              "2     1   48        1.0              1        20.0     0.0                0   \n",
              "3     0   61        3.0              1        30.0     0.0                0   \n",
              "4     0   46        3.0              1        23.0     0.0                0   \n",
              "\n",
              "   prevalentHyp  diabetes  totChol  sysBP  diaBP    BMI  heartRate  glucose  \\\n",
              "0             0         0    195.0  106.0   70.0  26.97       80.0     77.0   \n",
              "1             0         0    250.0  121.0   81.0  28.73       95.0     76.0   \n",
              "2             0         0    245.0  127.5   80.0  25.34       75.0     70.0   \n",
              "3             1         0    225.0  150.0   95.0  28.58       65.0    103.0   \n",
              "4             0         0    285.0  130.0   84.0  23.10       85.0     85.0   \n",
              "\n",
              "   TenYearCHD  \n",
              "0           0  \n",
              "1           0  \n",
              "2           0  \n",
              "3           1  \n",
              "4           0  "
            ],
            "text/html": [
              "\n",
              "  <div id=\"df-d9575dcd-0845-484a-b2ed-7723c9c721be\">\n",
              "    <div class=\"colab-df-container\">\n",
              "      <div>\n",
              "<style scoped>\n",
              "    .dataframe tbody tr th:only-of-type {\n",
              "        vertical-align: middle;\n",
              "    }\n",
              "\n",
              "    .dataframe tbody tr th {\n",
              "        vertical-align: top;\n",
              "    }\n",
              "\n",
              "    .dataframe thead th {\n",
              "        text-align: right;\n",
              "    }\n",
              "</style>\n",
              "<table border=\"1\" class=\"dataframe\">\n",
              "  <thead>\n",
              "    <tr style=\"text-align: right;\">\n",
              "      <th></th>\n",
              "      <th>male</th>\n",
              "      <th>age</th>\n",
              "      <th>education</th>\n",
              "      <th>currentSmoker</th>\n",
              "      <th>cigsPerDay</th>\n",
              "      <th>BPMeds</th>\n",
              "      <th>prevalentStroke</th>\n",
              "      <th>prevalentHyp</th>\n",
              "      <th>diabetes</th>\n",
              "      <th>totChol</th>\n",
              "      <th>sysBP</th>\n",
              "      <th>diaBP</th>\n",
              "      <th>BMI</th>\n",
              "      <th>heartRate</th>\n",
              "      <th>glucose</th>\n",
              "      <th>TenYearCHD</th>\n",
              "    </tr>\n",
              "  </thead>\n",
              "  <tbody>\n",
              "    <tr>\n",
              "      <th>0</th>\n",
              "      <td>1</td>\n",
              "      <td>39</td>\n",
              "      <td>4.0</td>\n",
              "      <td>0</td>\n",
              "      <td>0.0</td>\n",
              "      <td>0.0</td>\n",
              "      <td>0</td>\n",
              "      <td>0</td>\n",
              "      <td>0</td>\n",
              "      <td>195.0</td>\n",
              "      <td>106.0</td>\n",
              "      <td>70.0</td>\n",
              "      <td>26.97</td>\n",
              "      <td>80.0</td>\n",
              "      <td>77.0</td>\n",
              "      <td>0</td>\n",
              "    </tr>\n",
              "    <tr>\n",
              "      <th>1</th>\n",
              "      <td>0</td>\n",
              "      <td>46</td>\n",
              "      <td>2.0</td>\n",
              "      <td>0</td>\n",
              "      <td>0.0</td>\n",
              "      <td>0.0</td>\n",
              "      <td>0</td>\n",
              "      <td>0</td>\n",
              "      <td>0</td>\n",
              "      <td>250.0</td>\n",
              "      <td>121.0</td>\n",
              "      <td>81.0</td>\n",
              "      <td>28.73</td>\n",
              "      <td>95.0</td>\n",
              "      <td>76.0</td>\n",
              "      <td>0</td>\n",
              "    </tr>\n",
              "    <tr>\n",
              "      <th>2</th>\n",
              "      <td>1</td>\n",
              "      <td>48</td>\n",
              "      <td>1.0</td>\n",
              "      <td>1</td>\n",
              "      <td>20.0</td>\n",
              "      <td>0.0</td>\n",
              "      <td>0</td>\n",
              "      <td>0</td>\n",
              "      <td>0</td>\n",
              "      <td>245.0</td>\n",
              "      <td>127.5</td>\n",
              "      <td>80.0</td>\n",
              "      <td>25.34</td>\n",
              "      <td>75.0</td>\n",
              "      <td>70.0</td>\n",
              "      <td>0</td>\n",
              "    </tr>\n",
              "    <tr>\n",
              "      <th>3</th>\n",
              "      <td>0</td>\n",
              "      <td>61</td>\n",
              "      <td>3.0</td>\n",
              "      <td>1</td>\n",
              "      <td>30.0</td>\n",
              "      <td>0.0</td>\n",
              "      <td>0</td>\n",
              "      <td>1</td>\n",
              "      <td>0</td>\n",
              "      <td>225.0</td>\n",
              "      <td>150.0</td>\n",
              "      <td>95.0</td>\n",
              "      <td>28.58</td>\n",
              "      <td>65.0</td>\n",
              "      <td>103.0</td>\n",
              "      <td>1</td>\n",
              "    </tr>\n",
              "    <tr>\n",
              "      <th>4</th>\n",
              "      <td>0</td>\n",
              "      <td>46</td>\n",
              "      <td>3.0</td>\n",
              "      <td>1</td>\n",
              "      <td>23.0</td>\n",
              "      <td>0.0</td>\n",
              "      <td>0</td>\n",
              "      <td>0</td>\n",
              "      <td>0</td>\n",
              "      <td>285.0</td>\n",
              "      <td>130.0</td>\n",
              "      <td>84.0</td>\n",
              "      <td>23.10</td>\n",
              "      <td>85.0</td>\n",
              "      <td>85.0</td>\n",
              "      <td>0</td>\n",
              "    </tr>\n",
              "  </tbody>\n",
              "</table>\n",
              "</div>\n",
              "      <button class=\"colab-df-convert\" onclick=\"convertToInteractive('df-d9575dcd-0845-484a-b2ed-7723c9c721be')\"\n",
              "              title=\"Convert this dataframe to an interactive table.\"\n",
              "              style=\"display:none;\">\n",
              "        \n",
              "  <svg xmlns=\"http://www.w3.org/2000/svg\" height=\"24px\"viewBox=\"0 0 24 24\"\n",
              "       width=\"24px\">\n",
              "    <path d=\"M0 0h24v24H0V0z\" fill=\"none\"/>\n",
              "    <path d=\"M18.56 5.44l.94 2.06.94-2.06 2.06-.94-2.06-.94-.94-2.06-.94 2.06-2.06.94zm-11 1L8.5 8.5l.94-2.06 2.06-.94-2.06-.94L8.5 2.5l-.94 2.06-2.06.94zm10 10l.94 2.06.94-2.06 2.06-.94-2.06-.94-.94-2.06-.94 2.06-2.06.94z\"/><path d=\"M17.41 7.96l-1.37-1.37c-.4-.4-.92-.59-1.43-.59-.52 0-1.04.2-1.43.59L10.3 9.45l-7.72 7.72c-.78.78-.78 2.05 0 2.83L4 21.41c.39.39.9.59 1.41.59.51 0 1.02-.2 1.41-.59l7.78-7.78 2.81-2.81c.8-.78.8-2.07 0-2.86zM5.41 20L4 18.59l7.72-7.72 1.47 1.35L5.41 20z\"/>\n",
              "  </svg>\n",
              "      </button>\n",
              "      \n",
              "  <style>\n",
              "    .colab-df-container {\n",
              "      display:flex;\n",
              "      flex-wrap:wrap;\n",
              "      gap: 12px;\n",
              "    }\n",
              "\n",
              "    .colab-df-convert {\n",
              "      background-color: #E8F0FE;\n",
              "      border: none;\n",
              "      border-radius: 50%;\n",
              "      cursor: pointer;\n",
              "      display: none;\n",
              "      fill: #1967D2;\n",
              "      height: 32px;\n",
              "      padding: 0 0 0 0;\n",
              "      width: 32px;\n",
              "    }\n",
              "\n",
              "    .colab-df-convert:hover {\n",
              "      background-color: #E2EBFA;\n",
              "      box-shadow: 0px 1px 2px rgba(60, 64, 67, 0.3), 0px 1px 3px 1px rgba(60, 64, 67, 0.15);\n",
              "      fill: #174EA6;\n",
              "    }\n",
              "\n",
              "    [theme=dark] .colab-df-convert {\n",
              "      background-color: #3B4455;\n",
              "      fill: #D2E3FC;\n",
              "    }\n",
              "\n",
              "    [theme=dark] .colab-df-convert:hover {\n",
              "      background-color: #434B5C;\n",
              "      box-shadow: 0px 1px 3px 1px rgba(0, 0, 0, 0.15);\n",
              "      filter: drop-shadow(0px 1px 2px rgba(0, 0, 0, 0.3));\n",
              "      fill: #FFFFFF;\n",
              "    }\n",
              "  </style>\n",
              "\n",
              "      <script>\n",
              "        const buttonEl =\n",
              "          document.querySelector('#df-d9575dcd-0845-484a-b2ed-7723c9c721be button.colab-df-convert');\n",
              "        buttonEl.style.display =\n",
              "          google.colab.kernel.accessAllowed ? 'block' : 'none';\n",
              "\n",
              "        async function convertToInteractive(key) {\n",
              "          const element = document.querySelector('#df-d9575dcd-0845-484a-b2ed-7723c9c721be');\n",
              "          const dataTable =\n",
              "            await google.colab.kernel.invokeFunction('convertToInteractive',\n",
              "                                                     [key], {});\n",
              "          if (!dataTable) return;\n",
              "\n",
              "          const docLinkHtml = 'Like what you see? Visit the ' +\n",
              "            '<a target=\"_blank\" href=https://colab.research.google.com/notebooks/data_table.ipynb>data table notebook</a>'\n",
              "            + ' to learn more about interactive tables.';\n",
              "          element.innerHTML = '';\n",
              "          dataTable['output_type'] = 'display_data';\n",
              "          await google.colab.output.renderOutput(dataTable, element);\n",
              "          const docLink = document.createElement('div');\n",
              "          docLink.innerHTML = docLinkHtml;\n",
              "          element.appendChild(docLink);\n",
              "        }\n",
              "      </script>\n",
              "    </div>\n",
              "  </div>\n",
              "  "
            ]
          },
          "metadata": {},
          "execution_count": 4
        }
      ]
    },
    {
      "cell_type": "markdown",
      "source": [
        "sex : male or female (Nominal)\n",
        "\n",
        "age : age of the patient (Continuous)\n",
        "\n",
        "education: maximum level of education of the patient\n",
        "\n",
        "currentSmoker : whether or not the patient is a current smoker (Nominal)\n",
        "\n",
        "cigsPerDay : the number of cigarettes that the person smoked on average in one day (Continuous)\n",
        "\n",
        "BPMeds : whether or not the patient was on blood pressure medication (Nominal)\n",
        "\n",
        "prevalentStroke : whether or not the patient had previously had a stroke (Nominal)\n",
        "\n",
        "prevalentHyp : whether or not the patient was Hypertension (Nominal)\n",
        "\n",
        "diabetes : whether or not the patient had diabetes (Nominal)\n",
        "\n",
        "totChol : total cholesterol level (Continuous)\n",
        "\n",
        "sysBP : systolic blood pressure (Continuous)\n",
        "\n",
        "diaBP : diastolic blood pressure (Continuous)\n",
        "\n",
        "BMI : Body Mass Index (Continuous)\n",
        "\n",
        "heartRate : heart rate (Continuous)\n",
        "\n",
        "glucose : glucose level (Continuous)\n",
        "\n",
        "TenYearCHD : 10 year risk of Coronary Heart Disease (CHD) (binary: 1 (Yes), 0 (No))"
      ],
      "metadata": {
        "id": "xQCirxWhT03R"
      },
      "id": "xQCirxWhT03R"
    },
    {
      "cell_type": "markdown",
      "source": [
        "###Q2. Are there any columns which give information about something totally irrelevant to whether a person has a heart disease or not? If yes, drop the column. Also rename the column 'male' to 'sex_male'."
      ],
      "metadata": {
        "id": "W04MdijOULuY"
      },
      "id": "W04MdijOULuY"
    },
    {
      "cell_type": "code",
      "source": [
        "df.rename(columns={'male':'sex_male'},inplace=True)"
      ],
      "metadata": {
        "id": "-Tm933YkT2Tn"
      },
      "id": "-Tm933YkT2Tn",
      "execution_count": null,
      "outputs": []
    },
    {
      "cell_type": "markdown",
      "source": [
        "###Q3. Find the number of null values in each column and decide whether you can drop them or not. If you cannot drop them, use an appropriate method to deal with them"
      ],
      "metadata": {
        "id": "rJ8_1AZ6UmF6"
      },
      "id": "rJ8_1AZ6UmF6"
    },
    {
      "cell_type": "code",
      "source": [
        "df.isnull().sum()/len(df)"
      ],
      "metadata": {
        "id": "wT_73n8EbWmm",
        "colab": {
          "base_uri": "https://localhost:8080/"
        },
        "outputId": "89fbdb85-270a-475a-ce41-02213944768b"
      },
      "id": "wT_73n8EbWmm",
      "execution_count": null,
      "outputs": [
        {
          "output_type": "execute_result",
          "data": {
            "text/plain": [
              "sex_male           0.000000\n",
              "age                0.000000\n",
              "education          0.024764\n",
              "currentSmoker      0.000000\n",
              "cigsPerDay         0.006840\n",
              "BPMeds             0.012500\n",
              "prevalentStroke    0.000000\n",
              "prevalentHyp       0.000000\n",
              "diabetes           0.000000\n",
              "totChol            0.011792\n",
              "sysBP              0.000000\n",
              "diaBP              0.000000\n",
              "BMI                0.004481\n",
              "heartRate          0.000236\n",
              "glucose            0.091509\n",
              "TenYearCHD         0.000000\n",
              "dtype: float64"
            ]
          },
          "metadata": {},
          "execution_count": 10
        }
      ]
    },
    {
      "cell_type": "code",
      "source": [
        "plt.figure(figsize=(17,7))\n",
        "plt.subplot(2,3,1)\n",
        "sns.kdeplot(df['BMI'], shade=True)\n",
        "plt.subplot(2,3,2)\n",
        "sns.kdeplot(df['glucose'], shade=True)\n",
        "plt.subplot(2,3,3)\n",
        "sns.kdeplot(df['heartRate'], shade=True)\n",
        "plt.subplot(2,3,4)\n",
        "sns.kdeplot(df['totChol'], shade=True)\n",
        "plt.subplot(2,3,5)\n",
        "sns.kdeplot(df['BPMeds'], shade=True)\n",
        "plt.subplot(2,3,6)\n",
        "sns.kdeplot(df['cigsPerDay'], shade=True)"
      ],
      "metadata": {
        "colab": {
          "base_uri": "https://localhost:8080/",
          "height": 460
        },
        "id": "3IZ376f1kZ_1",
        "outputId": "0a4ba80c-c81c-4b71-9834-01f8d8485a02"
      },
      "id": "3IZ376f1kZ_1",
      "execution_count": null,
      "outputs": [
        {
          "output_type": "execute_result",
          "data": {
            "text/plain": [
              "<matplotlib.axes._subplots.AxesSubplot at 0x7feaf3414af0>"
            ]
          },
          "metadata": {},
          "execution_count": 121
        },
        {
          "output_type": "display_data",
          "data": {
            "text/plain": [
              "<Figure size 1224x504 with 6 Axes>"
            ],
            "image/png": "[encoded data removed]"
          },
          "metadata": {
            "needs_background": "light"
          }
        }
      ]
    },
    {
      "cell_type": "markdown",
      "source": [
        "## The above plots show the distribution of the variables. In case the variables are normally distributed then the null values can be replaced either of by mean, median or mode."
      ],
      "metadata": {
        "id": "AT02drzpUXtc"
      },
      "id": "AT02drzpUXtc"
    },
    {
      "cell_type": "code",
      "source": [
        "df['BMI'].fillna(df['BMI'].mean(),inplace=True)\n",
        "df['glucose'].fillna(df['glucose'].median(),inplace=True)\n",
        "df['heartRate'].fillna(df['heartRate'].median(),inplace=True)\n",
        "df['totChol'].fillna(df['totChol'].median(),inplace=True)\n",
        "df['BPMeds'].fillna(df['BPMeds'].median(),inplace=True)\n",
        "df['cigsPerDay'].fillna(df['cigsPerDay'].median(),inplace=True)\n",
        "df['education'].fillna(df['education'].mode()[0],inplace=True)"
      ],
      "metadata": {
        "id": "LIMgIe9XmZYM"
      },
      "id": "LIMgIe9XmZYM",
      "execution_count": null,
      "outputs": []
    },
    {
      "cell_type": "code",
      "source": [
        "df.isnull().sum()"
      ],
      "metadata": {
        "colab": {
          "base_uri": "https://localhost:8080/"
        },
        "id": "ydF8JYSXn77c",
        "outputId": "efcd23a0-524e-4602-c48b-8609c8967e45"
      },
      "id": "ydF8JYSXn77c",
      "execution_count": null,
      "outputs": [
        {
          "output_type": "execute_result",
          "data": {
            "text/plain": [
              "sex_male           0\n",
              "age                0\n",
              "education          0\n",
              "currentSmoker      0\n",
              "cigsPerDay         0\n",
              "BPMeds             0\n",
              "prevalentStroke    0\n",
              "prevalentHyp       0\n",
              "diabetes           0\n",
              "totChol            0\n",
              "sysBP              0\n",
              "diaBP              0\n",
              "BMI                0\n",
              "heartRate          0\n",
              "glucose            0\n",
              "TenYearCHD         0\n",
              "dtype: int64"
            ]
          },
          "metadata": {},
          "execution_count": 32
        }
      ]
    },
    {
      "cell_type": "markdown",
      "source": [
        "###Q4. The following code is set up for you, replace 'dataframe' with the name of the your variable. What do you understand from this EDA? Why do some graphs have only two bars, at 0 and 1 and others have multiple?"
      ],
      "metadata": {
        "id": "CIa2gyH9U17n"
      },
      "id": "CIa2gyH9U17n"
    },
    {
      "cell_type": "code",
      "execution_count": null,
      "id": "2e63f28a",
      "metadata": {
        "id": "2e63f28a",
        "colab": {
          "base_uri": "https://localhost:8080/",
          "height": 827
        },
        "outputId": "259ab530-147d-46c5-bbef-a64c9f1057d4"
      },
      "outputs": [
        {
          "output_type": "display_data",
          "data": {
            "text/plain": [
              "<Figure size 1440x1440 with 16 Axes>"
            ],
            "image/png": "[encoded data removed]"
          },
          "metadata": {
            "needs_background": "light"
          }
        }
      ],
      "source": [
        "def draw_histograms(dataframe, features, rows, cols):\n",
        "    fig=plt.figure(figsize=(20,20))\n",
        "    for i, feature in enumerate(features):\n",
        "        ax=fig.add_subplot(rows,cols,i+1)\n",
        "        dataframe[feature].hist(bins=20,ax=ax,facecolor='red')\n",
        "        ax.set_title(feature+\"Distribution\", color='blue')\n",
        "    fig.tight_layout()\n",
        "    plt.show()\n",
        "draw_histograms(df, df.columns, 6, 3)"
      ]
    },
    {
      "cell_type": "markdown",
      "source": [
        "#### The columns that have discrete values in the form of 0s & 1s have only 2 bars in the histogram.Other columns with continuous numerical values have multiple bars, in this case histogram shows the nature of distribution(Normal, left-skewed, right-skewed) of the data in that particular column."
      ],
      "metadata": {
        "id": "5bmcS0nGpJkI"
      },
      "id": "5bmcS0nGpJkI"
    },
    {
      "cell_type": "markdown",
      "source": [
        "###Q5. Using sns.countplot find out number of Positive cases and Negative cases in the dataset, i.e., in your target column."
      ],
      "metadata": {
        "id": "ejFQdFbDVZ_Z"
      },
      "id": "ejFQdFbDVZ_Z"
    },
    {
      "cell_type": "code",
      "execution_count": null,
      "id": "80c234a7",
      "metadata": {
        "id": "80c234a7",
        "colab": {
          "base_uri": "https://localhost:8080/",
          "height": 351
        },
        "outputId": "6286c2c6-b8a1-48c2-871f-d894e227f557"
      },
      "outputs": [
        {
          "output_type": "stream",
          "name": "stderr",
          "text": [
            "/usr/local/lib/python3.8/dist-packages/seaborn/_decorators.py:36: FutureWarning: Pass the following variable as a keyword arg: x. From version 0.12, the only valid positional argument will be `data`, and passing other arguments without an explicit keyword will result in an error or misinterpretation.\n",
            "  warnings.warn(\n"
          ]
        },
        {
          "output_type": "execute_result",
          "data": {
            "text/plain": [
              "<matplotlib.axes._subplots.AxesSubplot at 0x7feaf409e820>"
            ]
          },
          "metadata": {},
          "execution_count": 36
        },
        {
          "output_type": "display_data",
          "data": {
            "text/plain": [
              "<Figure size 432x288 with 1 Axes>"
            ],
            "image/png": "[encoded data removed]"
          },
          "metadata": {
            "needs_background": "light"
          }
        }
      ],
      "source": [
        "sns.countplot(df['TenYearCHD'])"
      ]
    },
    {
      "cell_type": "markdown",
      "source": [
        "###Q6a. Split the dataset into train and test and fit the training dataset in the Logistic Regression. "
      ],
      "metadata": {
        "id": "mj0ExaFaWZlH"
      },
      "id": "mj0ExaFaWZlH"
    },
    {
      "cell_type": "code",
      "source": [
        "from sklearn.model_selection import train_test_split\n",
        "x=df.iloc[:,0:15]\n",
        "y=df.iloc[:,15]\n",
        "x_train, x_test, y_train, y_test= train_test_split(x,y,test_size=0.2,random_state=10)"
      ],
      "metadata": {
        "id": "x2p0VehmWDpD"
      },
      "id": "x2p0VehmWDpD",
      "execution_count": null,
      "outputs": []
    },
    {
      "cell_type": "code",
      "source": [
        "from sklearn.linear_model import LogisticRegression\n",
        "classifier= LogisticRegression(random_state=10)\n",
        "classifier.fit(x_train,y_train)\n",
        "y_pred= classifier.predict(x_test)\n",
        "classifier.score(x_test,y_test)"
      ],
      "metadata": {
        "colab": {
          "base_uri": "https://localhost:8080/"
        },
        "id": "IC1Xenhbus8f",
        "outputId": "ff818f2b-69f1-4c78-f507-14452c7db5dc"
      },
      "id": "IC1Xenhbus8f",
      "execution_count": null,
      "outputs": [
        {
          "output_type": "stream",
          "name": "stderr",
          "text": [
            "/usr/local/lib/python3.8/dist-packages/sklearn/linear_model/_logistic.py:814: ConvergenceWarning: lbfgs failed to converge (status=1):\n",
            "STOP: TOTAL NO. of ITERATIONS REACHED LIMIT.\n",
            "\n",
            "Increase the number of iterations (max_iter) or scale the data as shown in:\n",
            "    https://scikit-learn.org/stable/modules/preprocessing.html\n",
            "Please also refer to the documentation for alternative solver options:\n",
            "    https://scikit-learn.org/stable/modules/linear_model.html#logistic-regression\n",
            "  n_iter_i = _check_optimize_result(\n"
          ]
        },
        {
          "output_type": "execute_result",
          "data": {
            "text/plain": [
              "0.8502358490566038"
            ]
          },
          "metadata": {},
          "execution_count": 56
        }
      ]
    },
    {
      "cell_type": "code",
      "source": [
        "confusion_matrix(y_test,y_pred)"
      ],
      "metadata": {
        "colab": {
          "base_uri": "https://localhost:8080/"
        },
        "id": "DVpDXRwBxFj-",
        "outputId": "1b83942b-1543-4d3f-ad07-4bbeb11ef392"
      },
      "id": "DVpDXRwBxFj-",
      "execution_count": null,
      "outputs": [
        {
          "output_type": "execute_result",
          "data": {
            "text/plain": [
              "array([[718,   2],\n",
              "       [125,   3]])"
            ]
          },
          "metadata": {},
          "execution_count": 57
        }
      ]
    },
    {
      "cell_type": "markdown",
      "source": [
        "###Q6b. Does running the above code give a Convergence Warning? What could be the cause of this problem? Try to find out methods that can deal with this problem."
      ],
      "metadata": {
        "id": "40dI3XQSWrDh"
      },
      "id": "40dI3XQSWrDh"
    },
    {
      "cell_type": "markdown",
      "id": "2caf8c74",
      "metadata": {
        "id": "2caf8c74"
      },
      "source": [
        "Although there are several methods, we will use backward feature selection to solve this problem. You can learn more about feature selection using the below link. \n",
        "\n",
        "https://www.javatpoint.com/feature-selection-techniques-in-machine-learning\n",
        "\n",
        "Understand and run the following 4 cells which carry out backward feature selection for you. Make sure to replace 'df' by your dataframe variable"
      ]
    },
    {
      "cell_type": "code",
      "execution_count": null,
      "id": "fff22648",
      "metadata": {
        "id": "fff22648",
        "colab": {
          "base_uri": "https://localhost:8080/",
          "height": 305
        },
        "outputId": "72d0b30e-5f29-4553-e5d4-d251015a4c3b"
      },
      "outputs": [
        {
          "output_type": "stream",
          "name": "stderr",
          "text": [
            "/usr/local/lib/python3.8/dist-packages/statsmodels/tsa/tsatools.py:142: FutureWarning: In a future version of pandas all arguments of concat except for the argument 'objs' will be keyword-only\n",
            "  x = pd.concat(x[::order], 1)\n"
          ]
        },
        {
          "output_type": "execute_result",
          "data": {
            "text/plain": [
              "   const  sex_male  age  education  currentSmoker  cigsPerDay  BPMeds  \\\n",
              "0    1.0         1   39        4.0              0         0.0     0.0   \n",
              "1    1.0         0   46        2.0              0         0.0     0.0   \n",
              "2    1.0         1   48        1.0              1        20.0     0.0   \n",
              "3    1.0         0   61        3.0              1        30.0     0.0   \n",
              "4    1.0         0   46        3.0              1        23.0     0.0   \n",
              "\n",
              "   prevalentStroke  prevalentHyp  diabetes  totChol  sysBP  diaBP    BMI  \\\n",
              "0                0             0         0    195.0  106.0   70.0  26.97   \n",
              "1                0             0         0    250.0  121.0   81.0  28.73   \n",
              "2                0             0         0    245.0  127.5   80.0  25.34   \n",
              "3                0             1         0    225.0  150.0   95.0  28.58   \n",
              "4                0             0         0    285.0  130.0   84.0  23.10   \n",
              "\n",
              "   heartRate  glucose  TenYearCHD  \n",
              "0       80.0     77.0           0  \n",
              "1       95.0     76.0           0  \n",
              "2       75.0     70.0           0  \n",
              "3       65.0    103.0           1  \n",
              "4       85.0     85.0           0  "
            ],
            "text/html": [
              "\n",
              "  <div id=\"df-25000477-74a3-48c0-aedc-1ac330a132b3\">\n",
              "    <div class=\"colab-df-container\">\n",
              "      <div>\n",
              "<style scoped>\n",
              "    .dataframe tbody tr th:only-of-type {\n",
              "        vertical-align: middle;\n",
              "    }\n",
              "\n",
              "    .dataframe tbody tr th {\n",
              "        vertical-align: top;\n",
              "    }\n",
              "\n",
              "    .dataframe thead th {\n",
              "        text-align: right;\n",
              "    }\n",
              "</style>\n",
              "<table border=\"1\" class=\"dataframe\">\n",
              "  <thead>\n",
              "    <tr style=\"text-align: right;\">\n",
              "      <th></th>\n",
              "      <th>const</th>\n",
              "      <th>sex_male</th>\n",
              "      <th>age</th>\n",
              "      <th>education</th>\n",
              "      <th>currentSmoker</th>\n",
              "      <th>cigsPerDay</th>\n",
              "      <th>BPMeds</th>\n",
              "      <th>prevalentStroke</th>\n",
              "      <th>prevalentHyp</th>\n",
              "      <th>diabetes</th>\n",
              "      <th>totChol</th>\n",
              "      <th>sysBP</th>\n",
              "      <th>diaBP</th>\n",
              "      <th>BMI</th>\n",
              "      <th>heartRate</th>\n",
              "      <th>glucose</th>\n",
              "      <th>TenYearCHD</th>\n",
              "    </tr>\n",
              "  </thead>\n",
              "  <tbody>\n",
              "    <tr>\n",
              "      <th>0</th>\n",
              "      <td>1.0</td>\n",
              "      <td>1</td>\n",
              "      <td>39</td>\n",
              "      <td>4.0</td>\n",
              "      <td>0</td>\n",
              "      <td>0.0</td>\n",
              "      <td>0.0</td>\n",
              "      <td>0</td>\n",
              "      <td>0</td>\n",
              "      <td>0</td>\n",
              "      <td>195.0</td>\n",
              "      <td>106.0</td>\n",
              "      <td>70.0</td>\n",
              "      <td>26.97</td>\n",
              "      <td>80.0</td>\n",
              "      <td>77.0</td>\n",
              "      <td>0</td>\n",
              "    </tr>\n",
              "    <tr>\n",
              "      <th>1</th>\n",
              "      <td>1.0</td>\n",
              "      <td>0</td>\n",
              "      <td>46</td>\n",
              "      <td>2.0</td>\n",
              "      <td>0</td>\n",
              "      <td>0.0</td>\n",
              "      <td>0.0</td>\n",
              "      <td>0</td>\n",
              "      <td>0</td>\n",
              "      <td>0</td>\n",
              "      <td>250.0</td>\n",
              "      <td>121.0</td>\n",
              "      <td>81.0</td>\n",
              "      <td>28.73</td>\n",
              "      <td>95.0</td>\n",
              "      <td>76.0</td>\n",
              "      <td>0</td>\n",
              "    </tr>\n",
              "    <tr>\n",
              "      <th>2</th>\n",
              "      <td>1.0</td>\n",
              "      <td>1</td>\n",
              "      <td>48</td>\n",
              "      <td>1.0</td>\n",
              "      <td>1</td>\n",
              "      <td>20.0</td>\n",
              "      <td>0.0</td>\n",
              "      <td>0</td>\n",
              "      <td>0</td>\n",
              "      <td>0</td>\n",
              "      <td>245.0</td>\n",
              "      <td>127.5</td>\n",
              "      <td>80.0</td>\n",
              "      <td>25.34</td>\n",
              "      <td>75.0</td>\n",
              "      <td>70.0</td>\n",
              "      <td>0</td>\n",
              "    </tr>\n",
              "    <tr>\n",
              "      <th>3</th>\n",
              "      <td>1.0</td>\n",
              "      <td>0</td>\n",
              "      <td>61</td>\n",
              "      <td>3.0</td>\n",
              "      <td>1</td>\n",
              "      <td>30.0</td>\n",
              "      <td>0.0</td>\n",
              "      <td>0</td>\n",
              "      <td>1</td>\n",
              "      <td>0</td>\n",
              "      <td>225.0</td>\n",
              "      <td>150.0</td>\n",
              "      <td>95.0</td>\n",
              "      <td>28.58</td>\n",
              "      <td>65.0</td>\n",
              "      <td>103.0</td>\n",
              "      <td>1</td>\n",
              "    </tr>\n",
              "    <tr>\n",
              "      <th>4</th>\n",
              "      <td>1.0</td>\n",
              "      <td>0</td>\n",
              "      <td>46</td>\n",
              "      <td>3.0</td>\n",
              "      <td>1</td>\n",
              "      <td>23.0</td>\n",
              "      <td>0.0</td>\n",
              "      <td>0</td>\n",
              "      <td>0</td>\n",
              "      <td>0</td>\n",
              "      <td>285.0</td>\n",
              "      <td>130.0</td>\n",
              "      <td>84.0</td>\n",
              "      <td>23.10</td>\n",
              "      <td>85.0</td>\n",
              "      <td>85.0</td>\n",
              "      <td>0</td>\n",
              "    </tr>\n",
              "  </tbody>\n",
              "</table>\n",
              "</div>\n",
              "      <button class=\"colab-df-convert\" onclick=\"convertToInteractive('df-25000477-74a3-48c0-aedc-1ac330a132b3')\"\n",
              "              title=\"Convert this dataframe to an interactive table.\"\n",
              "              style=\"display:none;\">\n",
              "        \n",
              "  <svg xmlns=\"http://www.w3.org/2000/svg\" height=\"24px\"viewBox=\"0 0 24 24\"\n",
              "       width=\"24px\">\n",
              "    <path d=\"M0 0h24v24H0V0z\" fill=\"none\"/>\n",
              "    <path d=\"M18.56 5.44l.94 2.06.94-2.06 2.06-.94-2.06-.94-.94-2.06-.94 2.06-2.06.94zm-11 1L8.5 8.5l.94-2.06 2.06-.94-2.06-.94L8.5 2.5l-.94 2.06-2.06.94zm10 10l.94 2.06.94-2.06 2.06-.94-2.06-.94-.94-2.06-.94 2.06-2.06.94z\"/><path d=\"M17.41 7.96l-1.37-1.37c-.4-.4-.92-.59-1.43-.59-.52 0-1.04.2-1.43.59L10.3 9.45l-7.72 7.72c-.78.78-.78 2.05 0 2.83L4 21.41c.39.39.9.59 1.41.59.51 0 1.02-.2 1.41-.59l7.78-7.78 2.81-2.81c.8-.78.8-2.07 0-2.86zM5.41 20L4 18.59l7.72-7.72 1.47 1.35L5.41 20z\"/>\n",
              "  </svg>\n",
              "      </button>\n",
              "      \n",
              "  <style>\n",
              "    .colab-df-container {\n",
              "      display:flex;\n",
              "      flex-wrap:wrap;\n",
              "      gap: 12px;\n",
              "    }\n",
              "\n",
              "    .colab-df-convert {\n",
              "      background-color: #E8F0FE;\n",
              "      border: none;\n",
              "      border-radius: 50%;\n",
              "      cursor: pointer;\n",
              "      display: none;\n",
              "      fill: #1967D2;\n",
              "      height: 32px;\n",
              "      padding: 0 0 0 0;\n",
              "      width: 32px;\n",
              "    }\n",
              "\n",
              "    .colab-df-convert:hover {\n",
              "      background-color: #E2EBFA;\n",
              "      box-shadow: 0px 1px 2px rgba(60, 64, 67, 0.3), 0px 1px 3px 1px rgba(60, 64, 67, 0.15);\n",
              "      fill: #174EA6;\n",
              "    }\n",
              "\n",
              "    [theme=dark] .colab-df-convert {\n",
              "      background-color: #3B4455;\n",
              "      fill: #D2E3FC;\n",
              "    }\n",
              "\n",
              "    [theme=dark] .colab-df-convert:hover {\n",
              "      background-color: #434B5C;\n",
              "      box-shadow: 0px 1px 3px 1px rgba(0, 0, 0, 0.15);\n",
              "      filter: drop-shadow(0px 1px 2px rgba(0, 0, 0, 0.3));\n",
              "      fill: #FFFFFF;\n",
              "    }\n",
              "  </style>\n",
              "\n",
              "      <script>\n",
              "        const buttonEl =\n",
              "          document.querySelector('#df-25000477-74a3-48c0-aedc-1ac330a132b3 button.colab-df-convert');\n",
              "        buttonEl.style.display =\n",
              "          google.colab.kernel.accessAllowed ? 'block' : 'none';\n",
              "\n",
              "        async function convertToInteractive(key) {\n",
              "          const element = document.querySelector('#df-25000477-74a3-48c0-aedc-1ac330a132b3');\n",
              "          const dataTable =\n",
              "            await google.colab.kernel.invokeFunction('convertToInteractive',\n",
              "                                                     [key], {});\n",
              "          if (!dataTable) return;\n",
              "\n",
              "          const docLinkHtml = 'Like what you see? Visit the ' +\n",
              "            '<a target=\"_blank\" href=https://colab.research.google.com/notebooks/data_table.ipynb>data table notebook</a>'\n",
              "            + ' to learn more about interactive tables.';\n",
              "          element.innerHTML = '';\n",
              "          dataTable['output_type'] = 'display_data';\n",
              "          await google.colab.output.renderOutput(dataTable, element);\n",
              "          const docLink = document.createElement('div');\n",
              "          docLink.innerHTML = docLinkHtml;\n",
              "          element.appendChild(docLink);\n",
              "        }\n",
              "      </script>\n",
              "    </div>\n",
              "  </div>\n",
              "  "
            ]
          },
          "metadata": {},
          "execution_count": 52
        }
      ],
      "source": [
        "from statsmodels.tools import add_constant as add_constant\n",
        "df_constant = add_constant(df)\n",
        "df_constant.head()"
      ]
    },
    {
      "cell_type": "code",
      "execution_count": null,
      "id": "c9ae3c88",
      "metadata": {
        "id": "c9ae3c88",
        "colab": {
          "base_uri": "https://localhost:8080/",
          "height": 603
        },
        "outputId": "3eaf4635-9507-4f61-b3d0-d3b374be4884"
      },
      "outputs": [
        {
          "output_type": "stream",
          "name": "stdout",
          "text": [
            "Optimization terminated successfully.\n",
            "         Current function value: 0.378434\n",
            "         Iterations 7\n"
          ]
        },
        {
          "output_type": "execute_result",
          "data": {
            "text/plain": [
              "<class 'statsmodels.iolib.summary.Summary'>\n",
              "\"\"\"\n",
              "                           Logit Regression Results                           \n",
              "==============================================================================\n",
              "Dep. Variable:             TenYearCHD   No. Observations:                 4240\n",
              "Model:                          Logit   Df Residuals:                     4224\n",
              "Method:                           MLE   Df Model:                           15\n",
              "Date:                Fri, 30 Dec 2022   Pseudo R-squ.:                  0.1116\n",
              "Time:                        11:10:33   Log-Likelihood:                -1604.6\n",
              "converged:                       True   LL-Null:                       -1806.1\n",
              "Covariance Type:            nonrobust   LLR p-value:                 1.553e-76\n",
              "===================================================================================\n",
              "                      coef    std err          z      P>|z|      [0.025      0.975]\n",
              "-----------------------------------------------------------------------------------\n",
              "const              -8.1333      0.665    -12.231      0.000      -9.437      -6.830\n",
              "sex_male            0.5029      0.100      5.011      0.000       0.306       0.700\n",
              "age                 0.0622      0.006     10.005      0.000       0.050       0.074\n",
              "education          -0.0114      0.046     -0.249      0.803      -0.101       0.078\n",
              "currentSmoker       0.0145      0.143      0.101      0.919      -0.265       0.294\n",
              "cigsPerDay          0.0214      0.006      3.790      0.000       0.010       0.032\n",
              "BPMeds              0.2434      0.220      1.105      0.269      -0.188       0.675\n",
              "prevalentStroke     0.9621      0.442      2.178      0.029       0.097       1.828\n",
              "prevalentHyp        0.2301      0.128      1.791      0.073      -0.022       0.482\n",
              "diabetes            0.1874      0.294      0.637      0.524      -0.389       0.764\n",
              "totChol             0.0018      0.001      1.785      0.074      -0.000       0.004\n",
              "sysBP               0.0141      0.004      3.989      0.000       0.007       0.021\n",
              "diaBP              -0.0029      0.006     -0.486      0.627      -0.015       0.009\n",
              "BMI                 0.0035      0.012      0.300      0.764      -0.020       0.027\n",
              "heartRate          -0.0015      0.004     -0.381      0.703      -0.009       0.006\n",
              "glucose             0.0067      0.002      3.135      0.002       0.003       0.011\n",
              "===================================================================================\n",
              "\"\"\""
            ],
            "text/html": [
              "<table class=\"simpletable\">\n",
              "<caption>Logit Regression Results</caption>\n",
              "<tr>\n",
              "  <th>Dep. Variable:</th>      <td>TenYearCHD</td>    <th>  No. Observations:  </th>  <td>  4240</td>  \n",
              "</tr>\n",
              "<tr>\n",
              "  <th>Model:</th>                 <td>Logit</td>      <th>  Df Residuals:      </th>  <td>  4224</td>  \n",
              "</tr>\n",
              "<tr>\n",
              "  <th>Method:</th>                 <td>MLE</td>       <th>  Df Model:          </th>  <td>    15</td>  \n",
              "</tr>\n",
              "<tr>\n",
              "  <th>Date:</th>            <td>Fri, 30 Dec 2022</td> <th>  Pseudo R-squ.:     </th>  <td>0.1116</td>  \n",
              "</tr>\n",
              "<tr>\n",
              "  <th>Time:</th>                <td>11:10:33</td>     <th>  Log-Likelihood:    </th> <td> -1604.6</td> \n",
              "</tr>\n",
              "<tr>\n",
              "  <th>converged:</th>             <td>True</td>       <th>  LL-Null:           </th> <td> -1806.1</td> \n",
              "</tr>\n",
              "<tr>\n",
              "  <th>Covariance Type:</th>     <td>nonrobust</td>    <th>  LLR p-value:       </th> <td>1.553e-76</td>\n",
              "</tr>\n",
              "</table>\n",
              "<table class=\"simpletable\">\n",
              "<tr>\n",
              "         <td></td>            <th>coef</th>     <th>std err</th>      <th>z</th>      <th>P>|z|</th>  <th>[0.025</th>    <th>0.975]</th>  \n",
              "</tr>\n",
              "<tr>\n",
              "  <th>const</th>           <td>   -8.1333</td> <td>    0.665</td> <td>  -12.231</td> <td> 0.000</td> <td>   -9.437</td> <td>   -6.830</td>\n",
              "</tr>\n",
              "<tr>\n",
              "  <th>sex_male</th>        <td>    0.5029</td> <td>    0.100</td> <td>    5.011</td> <td> 0.000</td> <td>    0.306</td> <td>    0.700</td>\n",
              "</tr>\n",
              "<tr>\n",
              "  <th>age</th>             <td>    0.0622</td> <td>    0.006</td> <td>   10.005</td> <td> 0.000</td> <td>    0.050</td> <td>    0.074</td>\n",
              "</tr>\n",
              "<tr>\n",
              "  <th>education</th>       <td>   -0.0114</td> <td>    0.046</td> <td>   -0.249</td> <td> 0.803</td> <td>   -0.101</td> <td>    0.078</td>\n",
              "</tr>\n",
              "<tr>\n",
              "  <th>currentSmoker</th>   <td>    0.0145</td> <td>    0.143</td> <td>    0.101</td> <td> 0.919</td> <td>   -0.265</td> <td>    0.294</td>\n",
              "</tr>\n",
              "<tr>\n",
              "  <th>cigsPerDay</th>      <td>    0.0214</td> <td>    0.006</td> <td>    3.790</td> <td> 0.000</td> <td>    0.010</td> <td>    0.032</td>\n",
              "</tr>\n",
              "<tr>\n",
              "  <th>BPMeds</th>          <td>    0.2434</td> <td>    0.220</td> <td>    1.105</td> <td> 0.269</td> <td>   -0.188</td> <td>    0.675</td>\n",
              "</tr>\n",
              "<tr>\n",
              "  <th>prevalentStroke</th> <td>    0.9621</td> <td>    0.442</td> <td>    2.178</td> <td> 0.029</td> <td>    0.097</td> <td>    1.828</td>\n",
              "</tr>\n",
              "<tr>\n",
              "  <th>prevalentHyp</th>    <td>    0.2301</td> <td>    0.128</td> <td>    1.791</td> <td> 0.073</td> <td>   -0.022</td> <td>    0.482</td>\n",
              "</tr>\n",
              "<tr>\n",
              "  <th>diabetes</th>        <td>    0.1874</td> <td>    0.294</td> <td>    0.637</td> <td> 0.524</td> <td>   -0.389</td> <td>    0.764</td>\n",
              "</tr>\n",
              "<tr>\n",
              "  <th>totChol</th>         <td>    0.0018</td> <td>    0.001</td> <td>    1.785</td> <td> 0.074</td> <td>   -0.000</td> <td>    0.004</td>\n",
              "</tr>\n",
              "<tr>\n",
              "  <th>sysBP</th>           <td>    0.0141</td> <td>    0.004</td> <td>    3.989</td> <td> 0.000</td> <td>    0.007</td> <td>    0.021</td>\n",
              "</tr>\n",
              "<tr>\n",
              "  <th>diaBP</th>           <td>   -0.0029</td> <td>    0.006</td> <td>   -0.486</td> <td> 0.627</td> <td>   -0.015</td> <td>    0.009</td>\n",
              "</tr>\n",
              "<tr>\n",
              "  <th>BMI</th>             <td>    0.0035</td> <td>    0.012</td> <td>    0.300</td> <td> 0.764</td> <td>   -0.020</td> <td>    0.027</td>\n",
              "</tr>\n",
              "<tr>\n",
              "  <th>heartRate</th>       <td>   -0.0015</td> <td>    0.004</td> <td>   -0.381</td> <td> 0.703</td> <td>   -0.009</td> <td>    0.006</td>\n",
              "</tr>\n",
              "<tr>\n",
              "  <th>glucose</th>         <td>    0.0067</td> <td>    0.002</td> <td>    3.135</td> <td> 0.002</td> <td>    0.003</td> <td>    0.011</td>\n",
              "</tr>\n",
              "</table>"
            ]
          },
          "metadata": {},
          "execution_count": 53
        }
      ],
      "source": [
        "st.chisqprob = lambda chisq, df: st.chi2.sf(chisq, df)\n",
        "cols = df_constant.columns[:-1]\n",
        "model = sm.Logit(df.TenYearCHD, df_constant[cols])\n",
        "result = model.fit()\n",
        "result.summary()"
      ]
    },
    {
      "cell_type": "code",
      "execution_count": null,
      "id": "9b196481",
      "metadata": {
        "id": "9b196481",
        "colab": {
          "base_uri": "https://localhost:8080/",
          "height": 359
        },
        "outputId": "fec3e68b-7315-4868-f478-4509107fc298"
      },
      "outputs": [
        {
          "output_type": "execute_result",
          "data": {
            "text/plain": [
              "<class 'statsmodels.iolib.summary.Summary'>\n",
              "\"\"\"\n",
              "                           Logit Regression Results                           \n",
              "==============================================================================\n",
              "Dep. Variable:             TenYearCHD   No. Observations:                 4240\n",
              "Model:                          Logit   Df Residuals:                     4233\n",
              "Method:                           MLE   Df Model:                            6\n",
              "Date:                Fri, 30 Dec 2022   Pseudo R-squ.:                  0.1091\n",
              "Time:                        11:10:58   Log-Likelihood:                -1609.1\n",
              "converged:                       True   LL-Null:                       -1806.1\n",
              "Covariance Type:            nonrobust   LLR p-value:                 5.270e-82\n",
              "===================================================================================\n",
              "                      coef    std err          z      P>|z|      [0.025      0.975]\n",
              "-----------------------------------------------------------------------------------\n",
              "const              -8.4642      0.389    -21.747      0.000      -9.227      -7.701\n",
              "sex_male            0.4828      0.097      4.966      0.000       0.292       0.673\n",
              "age                 0.0648      0.006     10.937      0.000       0.053       0.076\n",
              "cigsPerDay          0.0216      0.004      5.630      0.000       0.014       0.029\n",
              "prevalentStroke     1.0447      0.436      2.395      0.017       0.190       1.900\n",
              "sysBP               0.0171      0.002      8.524      0.000       0.013       0.021\n",
              "glucose             0.0076      0.002      4.662      0.000       0.004       0.011\n",
              "===================================================================================\n",
              "\"\"\""
            ],
            "text/html": [
              "<table class=\"simpletable\">\n",
              "<caption>Logit Regression Results</caption>\n",
              "<tr>\n",
              "  <th>Dep. Variable:</th>      <td>TenYearCHD</td>    <th>  No. Observations:  </th>  <td>  4240</td>  \n",
              "</tr>\n",
              "<tr>\n",
              "  <th>Model:</th>                 <td>Logit</td>      <th>  Df Residuals:      </th>  <td>  4233</td>  \n",
              "</tr>\n",
              "<tr>\n",
              "  <th>Method:</th>                 <td>MLE</td>       <th>  Df Model:          </th>  <td>     6</td>  \n",
              "</tr>\n",
              "<tr>\n",
              "  <th>Date:</th>            <td>Fri, 30 Dec 2022</td> <th>  Pseudo R-squ.:     </th>  <td>0.1091</td>  \n",
              "</tr>\n",
              "<tr>\n",
              "  <th>Time:</th>                <td>11:10:58</td>     <th>  Log-Likelihood:    </th> <td> -1609.1</td> \n",
              "</tr>\n",
              "<tr>\n",
              "  <th>converged:</th>             <td>True</td>       <th>  LL-Null:           </th> <td> -1806.1</td> \n",
              "</tr>\n",
              "<tr>\n",
              "  <th>Covariance Type:</th>     <td>nonrobust</td>    <th>  LLR p-value:       </th> <td>5.270e-82</td>\n",
              "</tr>\n",
              "</table>\n",
              "<table class=\"simpletable\">\n",
              "<tr>\n",
              "         <td></td>            <th>coef</th>     <th>std err</th>      <th>z</th>      <th>P>|z|</th>  <th>[0.025</th>    <th>0.975]</th>  \n",
              "</tr>\n",
              "<tr>\n",
              "  <th>const</th>           <td>   -8.4642</td> <td>    0.389</td> <td>  -21.747</td> <td> 0.000</td> <td>   -9.227</td> <td>   -7.701</td>\n",
              "</tr>\n",
              "<tr>\n",
              "  <th>sex_male</th>        <td>    0.4828</td> <td>    0.097</td> <td>    4.966</td> <td> 0.000</td> <td>    0.292</td> <td>    0.673</td>\n",
              "</tr>\n",
              "<tr>\n",
              "  <th>age</th>             <td>    0.0648</td> <td>    0.006</td> <td>   10.937</td> <td> 0.000</td> <td>    0.053</td> <td>    0.076</td>\n",
              "</tr>\n",
              "<tr>\n",
              "  <th>cigsPerDay</th>      <td>    0.0216</td> <td>    0.004</td> <td>    5.630</td> <td> 0.000</td> <td>    0.014</td> <td>    0.029</td>\n",
              "</tr>\n",
              "<tr>\n",
              "  <th>prevalentStroke</th> <td>    1.0447</td> <td>    0.436</td> <td>    2.395</td> <td> 0.017</td> <td>    0.190</td> <td>    1.900</td>\n",
              "</tr>\n",
              "<tr>\n",
              "  <th>sysBP</th>           <td>    0.0171</td> <td>    0.002</td> <td>    8.524</td> <td> 0.000</td> <td>    0.013</td> <td>    0.021</td>\n",
              "</tr>\n",
              "<tr>\n",
              "  <th>glucose</th>         <td>    0.0076</td> <td>    0.002</td> <td>    4.662</td> <td> 0.000</td> <td>    0.004</td> <td>    0.011</td>\n",
              "</tr>\n",
              "</table>"
            ]
          },
          "metadata": {},
          "execution_count": 54
        }
      ],
      "source": [
        "def back_feature_elem (data_frame, dep_var, col_list):\n",
        "    while len(col_list)>0 :\n",
        "        model = sm.Logit(dep_var,data_frame[col_list])\n",
        "        result = model.fit(disp=0)\n",
        "        largest_pvalue = round(result.pvalues,3).nlargest(1)\n",
        "        if largest_pvalue[0]<(0.05):\n",
        "            return result\n",
        "            break\n",
        "        else:\n",
        "            col_list = col_list.drop(largest_pvalue.index)\n",
        "result = back_feature_elem(df_constant, df.TenYearCHD, cols)\n",
        "result.summary()"
      ]
    },
    {
      "cell_type": "code",
      "execution_count": null,
      "id": "a2a9efac",
      "metadata": {
        "id": "a2a9efac",
        "colab": {
          "base_uri": "https://localhost:8080/"
        },
        "outputId": "35f8a22d-3288-43f4-9d18-82c659424a32"
      },
      "outputs": [
        {
          "output_type": "stream",
          "name": "stdout",
          "text": [
            "                 CI 95%(2.5%)  CI 95%(97.5%)  Odds Ratio  pvalue\n",
            "const                0.000098       0.000452    0.000211   0.000\n",
            "sex_male             1.339436       1.960696    1.620564   0.000\n",
            "age                  1.054621       1.079399    1.066938   0.000\n",
            "cigsPerDay           1.014207       1.029606    1.021877   0.000\n",
            "prevalentStroke      1.208851       6.684146    2.842559   0.017\n",
            "sysBP                1.013223       1.021203    1.017205   0.000\n",
            "glucose              1.004410       1.010843    1.007622   0.000\n"
          ]
        }
      ],
      "source": [
        "params = np.exp(result.params)\n",
        "conf = np.exp(result.conf_int())\n",
        "conf['OR'] = params\n",
        "pvalue = round(result.pvalues,3)\n",
        "conf['pvalue'] = pvalue\n",
        "conf.columns = ['CI 95%(2.5%)','CI 95%(97.5%)', 'Odds Ratio', 'pvalue']\n",
        "print((conf))"
      ]
    },
    {
      "cell_type": "markdown",
      "source": [
        "###Q7. The above table mentions the columns with the highest importance. Create a new dataframe with just these columns and your target column. Split it into training and testing dataset and fit the training data into Logistic regression model. Also predict the y values for the test set."
      ],
      "metadata": {
        "id": "kB_Av3nKaDK4"
      },
      "id": "kB_Av3nKaDK4"
    },
    {
      "cell_type": "code",
      "source": [
        "df1=df.loc[:,['sex_male','age','cigsPerDay','prevalentStroke','sysBP','glucose','TenYearCHD']]\n",
        "x=df1.iloc[:,0:6]\n",
        "y=df1.iloc[:,6]\n",
        "x_train,x_test,y_train,y_test= train_test_split(x,y,test_size=0.33,random_state=10)\n",
        "classifier=LogisticRegression(random_state=10)\n",
        "classifier.fit(x_train,y_train)"
      ],
      "metadata": {
        "id": "kXQbeSsQbra-",
        "colab": {
          "base_uri": "https://localhost:8080/"
        },
        "outputId": "ef226698-fc1d-4700-d96c-0140397cacd2"
      },
      "id": "kXQbeSsQbra-",
      "execution_count": null,
      "outputs": [
        {
          "output_type": "execute_result",
          "data": {
            "text/plain": [
              "LogisticRegression(random_state=10)"
            ]
          },
          "metadata": {},
          "execution_count": 115
        }
      ]
    },
    {
      "cell_type": "code",
      "source": [
        "y_pred=classifier.predict(x_test)"
      ],
      "metadata": {
        "id": "NvOecIq8z3TE"
      },
      "id": "NvOecIq8z3TE",
      "execution_count": null,
      "outputs": []
    },
    {
      "cell_type": "code",
      "source": [
        "classifier.score(x_test,y_test)"
      ],
      "metadata": {
        "colab": {
          "base_uri": "https://localhost:8080/"
        },
        "id": "3PKynlC5z7hN",
        "outputId": "e09a9180-5eeb-4882-91ab-3d4c7ad89946"
      },
      "id": "3PKynlC5z7hN",
      "execution_count": null,
      "outputs": [
        {
          "output_type": "execute_result",
          "data": {
            "text/plain": [
              "0.8542857142857143"
            ]
          },
          "metadata": {},
          "execution_count": 117
        }
      ]
    },
    {
      "cell_type": "markdown",
      "source": [
        "###Q8a. Create a confusion matrix for y test and y predcted values. Since this is prediction of heart disease which metric should be given more importance - Precision or Recall? Justify."
      ],
      "metadata": {
        "id": "5o18bJF7ajfp"
      },
      "id": "5o18bJF7ajfp"
    },
    {
      "cell_type": "code",
      "execution_count": null,
      "id": "af51ede7",
      "metadata": {
        "id": "af51ede7",
        "colab": {
          "base_uri": "https://localhost:8080/"
        },
        "outputId": "c9d0b582-02cd-4438-8294-9706f7b116c1"
      },
      "outputs": [
        {
          "output_type": "execute_result",
          "data": {
            "text/plain": [
              "array([[1181,    5],\n",
              "       [ 199,   15]])"
            ]
          },
          "metadata": {},
          "execution_count": 118
        }
      ],
      "source": [
        "confusion_matrix(y_test,y_pred)"
      ]
    },
    {
      "cell_type": "markdown",
      "source": [
        "### Recall is more important in terms of heart disease prediction as it won't miss out any possible case of heart disease. In case a patient is predicted to have a heart disease, a diagnostic test can be done to confirm the result but in case a patient having a heart disease goes unnoticed then it can fatal."
      ],
      "metadata": {
        "id": "ZiUih8hUFxVi"
      },
      "id": "ZiUih8hUFxVi"
    },
    {
      "cell_type": "markdown",
      "source": [
        "###Q8b. Using the above confusion matrix, how would you find out Accuracy, Precision and Recall values. Calculate them using the formulae which takes into account True Positive, False Positive, True Negative and False Negative values."
      ],
      "metadata": {
        "id": "2zGZNIB8b_-0"
      },
      "id": "2zGZNIB8b_-0"
    },
    {
      "cell_type": "code",
      "source": [
        "accuracy= (1181+15)/(1181+5+199+15)\n",
        "precision= 1181/(1181+5)\n",
        "recall=1181/(1181+199)\n",
        "print(f\"Accuracy is {accuracy}\")\n",
        "print(f\"Precision is {precision}\")\n",
        "print(f\"Recall is {recall}\")"
      ],
      "metadata": {
        "colab": {
          "base_uri": "https://localhost:8080/"
        },
        "id": "g0Msz45hHIc8",
        "outputId": "22286200-a941-450d-d1e6-ba1ace97a4a8"
      },
      "id": "g0Msz45hHIc8",
      "execution_count": null,
      "outputs": [
        {
          "output_type": "stream",
          "name": "stdout",
          "text": [
            "Accuracy is 0.8542857142857143\n",
            "Precision is 0.9957841483979764\n",
            "Recall is 0.8557971014492753\n"
          ]
        }
      ]
    }
  ],
  "metadata": {
    "kernelspec": {
      "display_name": "Python 3",
      "language": "python",
      "name": "python3"
    },
    "language_info": {
      "codemirror_mode": {
        "name": "ipython",
        "version": 3
      },
      "file_extension": ".py",
      "mimetype": "text/x-python",
      "name": "python",
      "nbconvert_exporter": "python",
      "pygments_lexer": "ipython3",
      "version": "3.8.8"
    },
    "colab": {
      "provenance": [],
      "include_colab_link": true
    }
  },
  "nbformat": 4,
  "nbformat_minor": 5
}