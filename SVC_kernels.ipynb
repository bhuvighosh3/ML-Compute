{
  "nbformat": 4,
  "nbformat_minor": 0,
  "metadata": {
    "colab": {
      "provenance": [],
      "include_colab_link": true
    },
    "kernelspec": {
      "name": "python3",
      "display_name": "Python 3"
    },
    "language_info": {
      "name": "python"
    }
  },
  "cells": [
    {
      "cell_type": "markdown",
      "metadata": {
        "id": "view-in-github",
        "colab_type": "text"
      },
      "source": [
        "<a href=\"https://colab.research.google.com/github/bhuvighosh3/ML-Compute/blob/main/SVC_kernels.ipynb\" target=\"_parent\"><img src=\"https://colab.research.google.com/assets/colab-badge.svg\" alt=\"Open In Colab\"/></a>"
      ]
    },
    {
      "cell_type": "markdown",
      "source": [
        "##Q1 Import and explore the data\n",
        "Dataset Link: https://drive.google.com/file/d/1tPHOMKD_ef-j8MuynCn2fSpbrL11-J1l/view?usp=sharing\n"
      ],
      "metadata": {
        "id": "aHQLsCXT_yf9"
      }
    },
    {
      "cell_type": "code",
      "source": [
        "import numpy as np\n",
        "import pandas as pd\n",
        "from sklearn.metrics import f1_score"
      ],
      "metadata": {
        "id": "FYq8LoHL8pTS"
      },
      "execution_count": null,
      "outputs": []
    },
    {
      "cell_type": "markdown",
      "source": [
        "##Q2 Carry out data pre-processing"
      ],
      "metadata": {
        "id": "naklkC17ALnZ"
      }
    },
    {
      "cell_type": "code",
      "source": [
        "df=pd.read_csv('/content/pulsar.txt')"
      ],
      "metadata": {
        "id": "3vSONQxW83-h"
      },
      "execution_count": null,
      "outputs": []
    },
    {
      "cell_type": "code",
      "source": [
        "df.head()"
      ],
      "metadata": {
        "colab": {
          "base_uri": "https://localhost:8080/",
          "height": 302
        },
        "id": "8MG0pcOp9CY-",
        "outputId": "a59e0258-f3e1-4b4f-d41d-7b280d29654a"
      },
      "execution_count": null,
      "outputs": [
        {
          "output_type": "execute_result",
          "data": {
            "text/plain": [
              "    Mean of the integrated profile  \\\n",
              "0                       121.156250   \n",
              "1                        76.968750   \n",
              "2                       130.585938   \n",
              "3                       156.398438   \n",
              "4                        84.804688   \n",
              "\n",
              "    Standard deviation of the integrated profile  \\\n",
              "0                                      48.372971   \n",
              "1                                      36.175557   \n",
              "2                                      53.229534   \n",
              "3                                      48.865942   \n",
              "4                                      36.117659   \n",
              "\n",
              "    Excess kurtosis of the integrated profile  \\\n",
              "0                                    0.375485   \n",
              "1                                    0.712898   \n",
              "2                                    0.133408   \n",
              "3                                   -0.215989   \n",
              "4                                    0.825013   \n",
              "\n",
              "    Skewness of the integrated profile   Mean of the DM-SNR curve  \\\n",
              "0                            -0.013165                   3.168896   \n",
              "1                             3.388719                   2.399666   \n",
              "2                            -0.297242                   2.743311   \n",
              "3                            -0.171294                  17.471572   \n",
              "4                             3.274125                   2.790134   \n",
              "\n",
              "    Standard deviation of the DM-SNR curve  \\\n",
              "0                                18.399367   \n",
              "1                                17.570997   \n",
              "2                                22.362553   \n",
              "3                                      NaN   \n",
              "4                                20.618009   \n",
              "\n",
              "    Excess kurtosis of the DM-SNR curve   Skewness of the DM-SNR curve  \\\n",
              "0                              7.449874                      65.159298   \n",
              "1                              9.414652                     102.722975   \n",
              "2                              8.508364                      74.031324   \n",
              "3                              2.958066                       7.197842   \n",
              "4                              8.405008                      76.291128   \n",
              "\n",
              "   target_class  \n",
              "0           0.0  \n",
              "1           0.0  \n",
              "2           0.0  \n",
              "3           0.0  \n",
              "4           0.0  "
            ],
            "text/html": [
              "\n",
              "  <div id=\"df-b1401c4e-23cb-4a70-8f0a-00e0b9c97526\">\n",
              "    <div class=\"colab-df-container\">\n",
              "      <div>\n",
              "<style scoped>\n",
              "    .dataframe tbody tr th:only-of-type {\n",
              "        vertical-align: middle;\n",
              "    }\n",
              "\n",
              "    .dataframe tbody tr th {\n",
              "        vertical-align: top;\n",
              "    }\n",
              "\n",
              "    .dataframe thead th {\n",
              "        text-align: right;\n",
              "    }\n",
              "</style>\n",
              "<table border=\"1\" class=\"dataframe\">\n",
              "  <thead>\n",
              "    <tr style=\"text-align: right;\">\n",
              "      <th></th>\n",
              "      <th>Mean of the integrated profile</th>\n",
              "      <th>Standard deviation of the integrated profile</th>\n",
              "      <th>Excess kurtosis of the integrated profile</th>\n",
              "      <th>Skewness of the integrated profile</th>\n",
              "      <th>Mean of the DM-SNR curve</th>\n",
              "      <th>Standard deviation of the DM-SNR curve</th>\n",
              "      <th>Excess kurtosis of the DM-SNR curve</th>\n",
              "      <th>Skewness of the DM-SNR curve</th>\n",
              "      <th>target_class</th>\n",
              "    </tr>\n",
              "  </thead>\n",
              "  <tbody>\n",
              "    <tr>\n",
              "      <th>0</th>\n",
              "      <td>121.156250</td>\n",
              "      <td>48.372971</td>\n",
              "      <td>0.375485</td>\n",
              "      <td>-0.013165</td>\n",
              "      <td>3.168896</td>\n",
              "      <td>18.399367</td>\n",
              "      <td>7.449874</td>\n",
              "      <td>65.159298</td>\n",
              "      <td>0.0</td>\n",
              "    </tr>\n",
              "    <tr>\n",
              "      <th>1</th>\n",
              "      <td>76.968750</td>\n",
              "      <td>36.175557</td>\n",
              "      <td>0.712898</td>\n",
              "      <td>3.388719</td>\n",
              "      <td>2.399666</td>\n",
              "      <td>17.570997</td>\n",
              "      <td>9.414652</td>\n",
              "      <td>102.722975</td>\n",
              "      <td>0.0</td>\n",
              "    </tr>\n",
              "    <tr>\n",
              "      <th>2</th>\n",
              "      <td>130.585938</td>\n",
              "      <td>53.229534</td>\n",
              "      <td>0.133408</td>\n",
              "      <td>-0.297242</td>\n",
              "      <td>2.743311</td>\n",
              "      <td>22.362553</td>\n",
              "      <td>8.508364</td>\n",
              "      <td>74.031324</td>\n",
              "      <td>0.0</td>\n",
              "    </tr>\n",
              "    <tr>\n",
              "      <th>3</th>\n",
              "      <td>156.398438</td>\n",
              "      <td>48.865942</td>\n",
              "      <td>-0.215989</td>\n",
              "      <td>-0.171294</td>\n",
              "      <td>17.471572</td>\n",
              "      <td>NaN</td>\n",
              "      <td>2.958066</td>\n",
              "      <td>7.197842</td>\n",
              "      <td>0.0</td>\n",
              "    </tr>\n",
              "    <tr>\n",
              "      <th>4</th>\n",
              "      <td>84.804688</td>\n",
              "      <td>36.117659</td>\n",
              "      <td>0.825013</td>\n",
              "      <td>3.274125</td>\n",
              "      <td>2.790134</td>\n",
              "      <td>20.618009</td>\n",
              "      <td>8.405008</td>\n",
              "      <td>76.291128</td>\n",
              "      <td>0.0</td>\n",
              "    </tr>\n",
              "  </tbody>\n",
              "</table>\n",
              "</div>\n",
              "      <button class=\"colab-df-convert\" onclick=\"convertToInteractive('df-b1401c4e-23cb-4a70-8f0a-00e0b9c97526')\"\n",
              "              title=\"Convert this dataframe to an interactive table.\"\n",
              "              style=\"display:none;\">\n",
              "        \n",
              "  <svg xmlns=\"http://www.w3.org/2000/svg\" height=\"24px\"viewBox=\"0 0 24 24\"\n",
              "       width=\"24px\">\n",
              "    <path d=\"M0 0h24v24H0V0z\" fill=\"none\"/>\n",
              "    <path d=\"M18.56 5.44l.94 2.06.94-2.06 2.06-.94-2.06-.94-.94-2.06-.94 2.06-2.06.94zm-11 1L8.5 8.5l.94-2.06 2.06-.94-2.06-.94L8.5 2.5l-.94 2.06-2.06.94zm10 10l.94 2.06.94-2.06 2.06-.94-2.06-.94-.94-2.06-.94 2.06-2.06.94z\"/><path d=\"M17.41 7.96l-1.37-1.37c-.4-.4-.92-.59-1.43-.59-.52 0-1.04.2-1.43.59L10.3 9.45l-7.72 7.72c-.78.78-.78 2.05 0 2.83L4 21.41c.39.39.9.59 1.41.59.51 0 1.02-.2 1.41-.59l7.78-7.78 2.81-2.81c.8-.78.8-2.07 0-2.86zM5.41 20L4 18.59l7.72-7.72 1.47 1.35L5.41 20z\"/>\n",
              "  </svg>\n",
              "      </button>\n",
              "      \n",
              "  <style>\n",
              "    .colab-df-container {\n",
              "      display:flex;\n",
              "      flex-wrap:wrap;\n",
              "      gap: 12px;\n",
              "    }\n",
              "\n",
              "    .colab-df-convert {\n",
              "      background-color: #E8F0FE;\n",
              "      border: none;\n",
              "      border-radius: 50%;\n",
              "      cursor: pointer;\n",
              "      display: none;\n",
              "      fill: #1967D2;\n",
              "      height: 32px;\n",
              "      padding: 0 0 0 0;\n",
              "      width: 32px;\n",
              "    }\n",
              "\n",
              "    .colab-df-convert:hover {\n",
              "      background-color: #E2EBFA;\n",
              "      box-shadow: 0px 1px 2px rgba(60, 64, 67, 0.3), 0px 1px 3px 1px rgba(60, 64, 67, 0.15);\n",
              "      fill: #174EA6;\n",
              "    }\n",
              "\n",
              "    [theme=dark] .colab-df-convert {\n",
              "      background-color: #3B4455;\n",
              "      fill: #D2E3FC;\n",
              "    }\n",
              "\n",
              "    [theme=dark] .colab-df-convert:hover {\n",
              "      background-color: #434B5C;\n",
              "      box-shadow: 0px 1px 3px 1px rgba(0, 0, 0, 0.15);\n",
              "      filter: drop-shadow(0px 1px 2px rgba(0, 0, 0, 0.3));\n",
              "      fill: #FFFFFF;\n",
              "    }\n",
              "  </style>\n",
              "\n",
              "      <script>\n",
              "        const buttonEl =\n",
              "          document.querySelector('#df-b1401c4e-23cb-4a70-8f0a-00e0b9c97526 button.colab-df-convert');\n",
              "        buttonEl.style.display =\n",
              "          google.colab.kernel.accessAllowed ? 'block' : 'none';\n",
              "\n",
              "        async function convertToInteractive(key) {\n",
              "          const element = document.querySelector('#df-b1401c4e-23cb-4a70-8f0a-00e0b9c97526');\n",
              "          const dataTable =\n",
              "            await google.colab.kernel.invokeFunction('convertToInteractive',\n",
              "                                                     [key], {});\n",
              "          if (!dataTable) return;\n",
              "\n",
              "          const docLinkHtml = 'Like what you see? Visit the ' +\n",
              "            '<a target=\"_blank\" href=https://colab.research.google.com/notebooks/data_table.ipynb>data table notebook</a>'\n",
              "            + ' to learn more about interactive tables.';\n",
              "          element.innerHTML = '';\n",
              "          dataTable['output_type'] = 'display_data';\n",
              "          await google.colab.output.renderOutput(dataTable, element);\n",
              "          const docLink = document.createElement('div');\n",
              "          docLink.innerHTML = docLinkHtml;\n",
              "          element.appendChild(docLink);\n",
              "        }\n",
              "      </script>\n",
              "    </div>\n",
              "  </div>\n",
              "  "
            ]
          },
          "metadata": {},
          "execution_count": 160
        }
      ]
    },
    {
      "cell_type": "code",
      "source": [
        "df.isnull().sum()/len(df)"
      ],
      "metadata": {
        "colab": {
          "base_uri": "https://localhost:8080/"
        },
        "id": "pc1uRQopAR0C",
        "outputId": "c94f18a0-7671-4147-f612-6d16623221a5"
      },
      "execution_count": null,
      "outputs": [
        {
          "output_type": "execute_result",
          "data": {
            "text/plain": [
              " Mean of the integrated profile                  0.000000\n",
              " Standard deviation of the integrated profile    0.000000\n",
              " Excess kurtosis of the integrated profile       0.138490\n",
              " Skewness of the integrated profile              0.000000\n",
              " Mean of the DM-SNR curve                        0.000000\n",
              " Standard deviation of the DM-SNR curve          0.094029\n",
              " Excess kurtosis of the DM-SNR curve             0.000000\n",
              " Skewness of the DM-SNR curve                    0.049888\n",
              "target_class                                     0.000000\n",
              "dtype: float64"
            ]
          },
          "metadata": {},
          "execution_count": 161
        }
      ]
    },
    {
      "cell_type": "code",
      "source": [
        "df.dropna(inplace=True)"
      ],
      "metadata": {
        "id": "Hw_b9GZgAeWz"
      },
      "execution_count": null,
      "outputs": []
    },
    {
      "cell_type": "code",
      "source": [
        "df.isnull().sum()"
      ],
      "metadata": {
        "colab": {
          "base_uri": "https://localhost:8080/"
        },
        "id": "7Gib9lpmAkbC",
        "outputId": "f1983061-7c8e-4081-e421-f2440b38d952"
      },
      "execution_count": null,
      "outputs": [
        {
          "output_type": "execute_result",
          "data": {
            "text/plain": [
              " Mean of the integrated profile                  0\n",
              " Standard deviation of the integrated profile    0\n",
              " Excess kurtosis of the integrated profile       0\n",
              " Skewness of the integrated profile              0\n",
              " Mean of the DM-SNR curve                        0\n",
              " Standard deviation of the DM-SNR curve          0\n",
              " Excess kurtosis of the DM-SNR curve             0\n",
              " Skewness of the DM-SNR curve                    0\n",
              "target_class                                     0\n",
              "dtype: int64"
            ]
          },
          "metadata": {},
          "execution_count": 163
        }
      ]
    },
    {
      "cell_type": "code",
      "source": [
        "df['target_class'].value_counts()"
      ],
      "metadata": {
        "colab": {
          "base_uri": "https://localhost:8080/"
        },
        "id": "f4BC_m3-kS6w",
        "outputId": "bdb6521c-d9ab-4a2b-97b2-10c3e2a446a7"
      },
      "execution_count": null,
      "outputs": [
        {
          "output_type": "execute_result",
          "data": {
            "text/plain": [
              "0.0    8423\n",
              "1.0     850\n",
              "Name: target_class, dtype: int64"
            ]
          },
          "metadata": {},
          "execution_count": 202
        }
      ]
    },
    {
      "cell_type": "markdown",
      "source": [
        "## This indicates that the target column has an unbalanced distribution. F-score is used for comparison in this case."
      ],
      "metadata": {
        "id": "Y-sr0VyakqhM"
      }
    },
    {
      "cell_type": "markdown",
      "source": [
        "##Q3 Scale the data using Standard Scaler"
      ],
      "metadata": {
        "id": "qfCEvxCTAWMV"
      }
    },
    {
      "cell_type": "code",
      "source": [
        "from sklearn.preprocessing import StandardScaler"
      ],
      "metadata": {
        "id": "kdv9wJnz9QmO"
      },
      "execution_count": null,
      "outputs": []
    },
    {
      "cell_type": "code",
      "source": [
        "x=df.iloc[:,0:8].values\n",
        "y=df.iloc[:,8].values"
      ],
      "metadata": {
        "id": "5J-Fl4Wc90ob"
      },
      "execution_count": null,
      "outputs": []
    },
    {
      "cell_type": "code",
      "source": [
        "st_x= StandardScaler()    \n",
        "x= st_x.fit_transform(x)       "
      ],
      "metadata": {
        "id": "qcSDN_Rn99Yd"
      },
      "execution_count": null,
      "outputs": []
    },
    {
      "cell_type": "markdown",
      "source": [
        "####Q3a According to you, why is scaling important in SVM? What are the different methods for scaling the data available in sklearn.preprocessing?"
      ],
      "metadata": {
        "id": "9TiEh5yjAvmi"
      }
    },
    {
      "cell_type": "markdown",
      "source": [
        "## 1)  The effect of outliers is redused after feature scaling. \n",
        "## 2)  After scaling the features get equal importance as they can evaluated on common grounds.\n",
        "\n",
        "\n",
        "> Standard scalar, min max scalar, max absolute scalar.\n",
        "\n"
      ],
      "metadata": {
        "id": "d1MPklMC1_w-"
      }
    },
    {
      "cell_type": "markdown",
      "source": [
        "##Q4 Split the data in traina and test set"
      ],
      "metadata": {
        "id": "ris4X7S3Bg3E"
      }
    },
    {
      "cell_type": "code",
      "source": [
        "from sklearn.model_selection import train_test_split"
      ],
      "metadata": {
        "id": "6tRph5J18UcR"
      },
      "execution_count": null,
      "outputs": []
    },
    {
      "cell_type": "code",
      "source": [
        "x_train, x_test, y_train, y_test=train_test_split(x,y,test_size=0.33,random_state=50)"
      ],
      "metadata": {
        "id": "FBThad_H-_oa"
      },
      "execution_count": null,
      "outputs": []
    },
    {
      "cell_type": "markdown",
      "source": [
        "##Q5 Implement SVM"
      ],
      "metadata": {
        "id": "fmrpw-xPAT5i"
      }
    },
    {
      "cell_type": "markdown",
      "source": [
        "Different types of kernels in SVM:\n",
        "https://www.kaggle.com/discussions/questions-and-answers/326336\n"
      ],
      "metadata": {
        "id": "hnSv4K9cFBnk"
      }
    },
    {
      "cell_type": "code",
      "source": [
        "from sklearn.svm import SVC"
      ],
      "metadata": {
        "id": "9rFv1Ntz_tR6"
      },
      "execution_count": null,
      "outputs": []
    },
    {
      "cell_type": "markdown",
      "source": [
        "###Q5a Linear SVM\n",
        "\n",
        "Apply Linear SVM for costs (C) = [0.1, 1, 10, 100, 1000], predict for the test set and check f1 score for each of the costs. State the best cost "
      ],
      "metadata": {
        "id": "QXZCpBvDAZIQ"
      }
    },
    {
      "cell_type": "code",
      "source": [
        "l=[]\n",
        "c=[0.1,1,10,100,1000]\n",
        "for i in c:\n",
        "  classifier=SVC(kernel='linear',C=i,random_state=50)\n",
        "  classifier.fit(x_train,y_train)\n",
        "  y_pred=classifier.predict(x_test)\n",
        "  print(f'F1 score for {i} is {f1_score(y_test,y_pred)}')\n",
        "  l.append(f1_score(y_test,y_pred))\n",
        "z=dict(zip(c,l))\n",
        "for i in z:\n",
        "  if(z[i]==max(l)):\n",
        "    print('Best cost is for c:',i)"
      ],
      "metadata": {
        "id": "XQ_H9e8Z8WRY",
        "colab": {
          "base_uri": "https://localhost:8080/"
        },
        "outputId": "d7edcebb-4ae9-438d-c5b2-7c93723d466e"
      },
      "execution_count": null,
      "outputs": [
        {
          "output_type": "stream",
          "name": "stdout",
          "text": [
            "F1 score for 0.1 is 0.8855534709193247\n",
            "F1 score for 1 is 0.8872458410351202\n",
            "F1 score for 10 is 0.8872458410351202\n",
            "F1 score for 100 is 0.8872458410351202\n",
            "F1 score for 1000 is 0.8872458410351202\n",
            "Best cost is for c: 1\n",
            "Best cost is for c: 10\n",
            "Best cost is for c: 100\n",
            "Best cost is for c: 1000\n"
          ]
        }
      ]
    },
    {
      "cell_type": "code",
      "source": [
        "from sklearn.model_selection import GridSearchCV"
      ],
      "metadata": {
        "id": "QQ3dfhWFEVuY"
      },
      "execution_count": null,
      "outputs": []
    },
    {
      "cell_type": "code",
      "source": [
        "param_grid={'C':[0.1,1,10,100,1000],'kernel':['linear'],'random_state':[50]}\n",
        "grid=GridSearchCV(SVC(),param_grid,refit=True,verbose=3,scoring='f1')\n",
        "grid.fit(x_train,y_train)\n",
        "y_pred=grid.predict(x_test)"
      ],
      "metadata": {
        "colab": {
          "base_uri": "https://localhost:8080/"
        },
        "id": "HBV5gP5gFQpl",
        "outputId": "aaed4b28-d1b0-4ac9-f989-b4ea0f11cd34"
      },
      "execution_count": null,
      "outputs": [
        {
          "output_type": "stream",
          "name": "stdout",
          "text": [
            "Fitting 5 folds for each of 5 candidates, totalling 25 fits\n",
            "[CV 1/5] END C=0.1, kernel=linear, random_state=50;, score=0.843 total time=   0.1s\n",
            "[CV 2/5] END C=0.1, kernel=linear, random_state=50;, score=0.816 total time=   0.1s\n",
            "[CV 3/5] END C=0.1, kernel=linear, random_state=50;, score=0.856 total time=   0.1s\n",
            "[CV 4/5] END C=0.1, kernel=linear, random_state=50;, score=0.888 total time=   0.1s\n",
            "[CV 5/5] END C=0.1, kernel=linear, random_state=50;, score=0.871 total time=   0.1s\n",
            "[CV 1/5] END C=1, kernel=linear, random_state=50;, score=0.861 total time=   0.1s\n",
            "[CV 2/5] END C=1, kernel=linear, random_state=50;, score=0.829 total time=   0.1s\n",
            "[CV 3/5] END C=1, kernel=linear, random_state=50;, score=0.861 total time=   0.1s\n",
            "[CV 4/5] END C=1, kernel=linear, random_state=50;, score=0.902 total time=   0.1s\n",
            "[CV 5/5] END C=1, kernel=linear, random_state=50;, score=0.902 total time=   0.1s\n",
            "[CV 1/5] END C=10, kernel=linear, random_state=50;, score=0.868 total time=   0.2s\n",
            "[CV 2/5] END C=10, kernel=linear, random_state=50;, score=0.856 total time=   0.2s\n",
            "[CV 3/5] END C=10, kernel=linear, random_state=50;, score=0.858 total time=   0.2s\n",
            "[CV 4/5] END C=10, kernel=linear, random_state=50;, score=0.912 total time=   0.2s\n",
            "[CV 5/5] END C=10, kernel=linear, random_state=50;, score=0.912 total time=   0.2s\n",
            "[CV 1/5] END C=100, kernel=linear, random_state=50;, score=0.868 total time=   0.8s\n",
            "[CV 2/5] END C=100, kernel=linear, random_state=50;, score=0.856 total time=   0.8s\n",
            "[CV 3/5] END C=100, kernel=linear, random_state=50;, score=0.858 total time=   0.7s\n",
            "[CV 4/5] END C=100, kernel=linear, random_state=50;, score=0.913 total time=   0.9s\n",
            "[CV 5/5] END C=100, kernel=linear, random_state=50;, score=0.912 total time=   0.8s\n",
            "[CV 1/5] END C=1000, kernel=linear, random_state=50;, score=0.868 total time=   6.3s\n",
            "[CV 2/5] END C=1000, kernel=linear, random_state=50;, score=0.856 total time=   5.9s\n",
            "[CV 3/5] END C=1000, kernel=linear, random_state=50;, score=0.858 total time=   4.7s\n",
            "[CV 4/5] END C=1000, kernel=linear, random_state=50;, score=0.913 total time=   5.8s\n",
            "[CV 5/5] END C=1000, kernel=linear, random_state=50;, score=0.912 total time=   5.6s\n"
          ]
        }
      ]
    },
    {
      "cell_type": "markdown",
      "source": [
        "### If kernel is not specified then rbf will be used by default."
      ],
      "metadata": {
        "id": "scPm1ey2O8xx"
      }
    },
    {
      "cell_type": "code",
      "source": [
        "grid.best_params_"
      ],
      "metadata": {
        "colab": {
          "base_uri": "https://localhost:8080/"
        },
        "id": "xoYodwB7GHp9",
        "outputId": "1af1f38c-cc73-4bb4-ee50-c5bab745d84b"
      },
      "execution_count": null,
      "outputs": [
        {
          "output_type": "execute_result",
          "data": {
            "text/plain": [
              "{'C': 100, 'kernel': 'linear', 'random_state': 50}"
            ]
          },
          "metadata": {},
          "execution_count": 132
        }
      ]
    },
    {
      "cell_type": "code",
      "source": [
        "grid.best_score_"
      ],
      "metadata": {
        "colab": {
          "base_uri": "https://localhost:8080/"
        },
        "id": "qC9DQhmcIDyo",
        "outputId": "59a17555-3cc9-47b8-8c83-ad8495bd9e96"
      },
      "execution_count": null,
      "outputs": [
        {
          "output_type": "execute_result",
          "data": {
            "text/plain": [
              "0.8814108482436035"
            ]
          },
          "metadata": {},
          "execution_count": 133
        }
      ]
    },
    {
      "cell_type": "markdown",
      "source": [
        "###Q5b Polynomial Kernel"
      ],
      "metadata": {
        "id": "ZfPGIeT6EO1e"
      }
    },
    {
      "cell_type": "markdown",
      "source": [
        "Apply Linear SVM for degrees = [1,2,3,4,5], predict for the test set and check f1 score for each of the degrees. State the best degree. "
      ],
      "metadata": {
        "id": "3vwpxFdTEOx3"
      }
    },
    {
      "cell_type": "code",
      "source": [
        "l=[]\n",
        "deg=[1,2,3,4,5]\n",
        "for i in deg:\n",
        "  classifier=SVC(kernel='poly',degree=i,random_state=50)\n",
        "  classifier.fit(x_train,y_train)\n",
        "  y_pred=classifier.predict(x_test)\n",
        "  print(f'F1 score for {i} is {f1_score(y_test,y_pred)}')\n",
        "  l.append(f1_score(y_test,y_pred))\n",
        "z=dict(zip(deg,l))\n",
        "for i in z:\n",
        "  if(z[i]==max(l)):\n",
        "    print('Best cost is for c:',i)"
      ],
      "metadata": {
        "colab": {
          "base_uri": "https://localhost:8080/"
        },
        "id": "VoVfHlk2cGUU",
        "outputId": "36d44c09-07d4-4171-e385-c6dff2d5754e"
      },
      "execution_count": null,
      "outputs": [
        {
          "output_type": "stream",
          "name": "stdout",
          "text": [
            "F1 score for 1 is 0.8855534709193247\n",
            "F1 score for 2 is 0.8718929254302104\n",
            "F1 score for 3 is 0.868421052631579\n",
            "F1 score for 4 is 0.8522072936660269\n",
            "F1 score for 5 is 0.8436911487758946\n",
            "Best cost is for c: 1\n"
          ]
        }
      ]
    },
    {
      "cell_type": "code",
      "source": [
        "param_grid={'degree':[1,2,3,4,5],'kernel':['poly'],'random_state':[50]}\n",
        "grid=GridSearchCV(SVC(),param_grid,refit=True,verbose=3,scoring='f1')\n",
        "grid.fit(x_train,y_train)\n",
        "y_pred=grid.predict(x_test)"
      ],
      "metadata": {
        "id": "doPCbujkDpaP",
        "colab": {
          "base_uri": "https://localhost:8080/"
        },
        "outputId": "4fdc6d0d-01b9-4247-88d8-ccd7053c68f3"
      },
      "execution_count": null,
      "outputs": [
        {
          "output_type": "stream",
          "name": "stdout",
          "text": [
            "Fitting 5 folds for each of 5 candidates, totalling 25 fits\n",
            "[CV 1/5] END degree=1, kernel=poly, random_state=50;, score=0.849 total time=   0.1s\n",
            "[CV 2/5] END degree=1, kernel=poly, random_state=50;, score=0.822 total time=   0.1s\n",
            "[CV 3/5] END degree=1, kernel=poly, random_state=50;, score=0.856 total time=   0.1s\n",
            "[CV 4/5] END degree=1, kernel=poly, random_state=50;, score=0.888 total time=   0.1s\n",
            "[CV 5/5] END degree=1, kernel=poly, random_state=50;, score=0.882 total time=   0.1s\n",
            "[CV 1/5] END degree=2, kernel=poly, random_state=50;, score=0.804 total time=   0.1s\n",
            "[CV 2/5] END degree=2, kernel=poly, random_state=50;, score=0.810 total time=   0.1s\n",
            "[CV 3/5] END degree=2, kernel=poly, random_state=50;, score=0.818 total time=   0.1s\n",
            "[CV 4/5] END degree=2, kernel=poly, random_state=50;, score=0.868 total time=   0.1s\n",
            "[CV 5/5] END degree=2, kernel=poly, random_state=50;, score=0.836 total time=   0.1s\n",
            "[CV 1/5] END degree=3, kernel=poly, random_state=50;, score=0.835 total time=   0.2s\n",
            "[CV 2/5] END degree=3, kernel=poly, random_state=50;, score=0.818 total time=   0.1s\n",
            "[CV 3/5] END degree=3, kernel=poly, random_state=50;, score=0.828 total time=   0.1s\n",
            "[CV 4/5] END degree=3, kernel=poly, random_state=50;, score=0.883 total time=   0.1s\n",
            "[CV 5/5] END degree=3, kernel=poly, random_state=50;, score=0.849 total time=   0.2s\n",
            "[CV 1/5] END degree=4, kernel=poly, random_state=50;, score=0.828 total time=   0.2s\n",
            "[CV 2/5] END degree=4, kernel=poly, random_state=50;, score=0.790 total time=   0.2s\n",
            "[CV 3/5] END degree=4, kernel=poly, random_state=50;, score=0.810 total time=   0.2s\n",
            "[CV 4/5] END degree=4, kernel=poly, random_state=50;, score=0.868 total time=   0.3s\n",
            "[CV 5/5] END degree=4, kernel=poly, random_state=50;, score=0.835 total time=   0.2s\n",
            "[CV 1/5] END degree=5, kernel=poly, random_state=50;, score=0.829 total time=   0.3s\n",
            "[CV 2/5] END degree=5, kernel=poly, random_state=50;, score=0.784 total time=   0.4s\n",
            "[CV 3/5] END degree=5, kernel=poly, random_state=50;, score=0.792 total time=   0.3s\n",
            "[CV 4/5] END degree=5, kernel=poly, random_state=50;, score=0.859 total time=   0.5s\n",
            "[CV 5/5] END degree=5, kernel=poly, random_state=50;, score=0.845 total time=   0.4s\n"
          ]
        }
      ]
    },
    {
      "cell_type": "code",
      "source": [
        "grid.best_params_"
      ],
      "metadata": {
        "colab": {
          "base_uri": "https://localhost:8080/"
        },
        "id": "q572LOO-MHxu",
        "outputId": "2c12ba1c-ca9f-40d2-b0e6-c05163888e95"
      },
      "execution_count": null,
      "outputs": [
        {
          "output_type": "execute_result",
          "data": {
            "text/plain": [
              "{'degree': 1, 'kernel': 'poly', 'random_state': 50}"
            ]
          },
          "metadata": {},
          "execution_count": 135
        }
      ]
    },
    {
      "cell_type": "code",
      "source": [
        "grid.best_score_"
      ],
      "metadata": {
        "colab": {
          "base_uri": "https://localhost:8080/"
        },
        "id": "TY_srWFIMPx9",
        "outputId": "6f9ba934-edf5-4889-e828-2a613b9bbc79"
      },
      "execution_count": null,
      "outputs": [
        {
          "output_type": "execute_result",
          "data": {
            "text/plain": [
              "0.859139790351875"
            ]
          },
          "metadata": {},
          "execution_count": 136
        }
      ]
    },
    {
      "cell_type": "markdown",
      "source": [
        "###Q5c Sigmoid Kernel"
      ],
      "metadata": {
        "id": "3RnH4YwDDt8_"
      }
    },
    {
      "cell_type": "markdown",
      "source": [
        "Apply Linear SVM for costs (C) = [0.1, 1, 10, 100, 1000], predict for the test set and check f1 score for each of the costs. State the best cost "
      ],
      "metadata": {
        "id": "0xQpdX-6D5By"
      }
    },
    {
      "cell_type": "code",
      "source": [
        "l=[]\n",
        "c=[0.1,1,10,100,1000]\n",
        "for i in c:\n",
        "  classifier=SVC(kernel='sigmoid',C=i,random_state=50)\n",
        "  classifier.fit(x_train,y_train)\n",
        "  y_pred=classifier.predict(x_test)\n",
        "  print(f'F1 score for {i} is {f1_score(y_test,y_pred)}')\n",
        "  l.append(f1_score(y_test,y_pred))\n",
        "z=dict(zip(c,l))\n",
        "for i in z:\n",
        "  if(z[i]==max(l)):\n",
        "    print('Best cost is for c:',i)"
      ],
      "metadata": {
        "colab": {
          "base_uri": "https://localhost:8080/"
        },
        "id": "XpeiFS9LcZJI",
        "outputId": "2fd7ad10-0a6b-4dc4-8b1b-55c402526c43"
      },
      "execution_count": null,
      "outputs": [
        {
          "output_type": "stream",
          "name": "stdout",
          "text": [
            "F1 score for 0.1 is 0.2661448140900196\n",
            "F1 score for 1 is 0.26436781609195403\n",
            "F1 score for 10 is 0.26666666666666666\n",
            "F1 score for 100 is 0.26615969581749055\n",
            "F1 score for 1000 is 0.26565464895635676\n",
            "Best cost is for c: 10\n"
          ]
        }
      ]
    },
    {
      "cell_type": "code",
      "source": [
        "param_grid={'C':[0.1,1,10,100,1000],'kernel':['sigmoid'],'random_state':[50]}\n",
        "grid=GridSearchCV(SVC(),param_grid,refit=True,verbose=3,scoring='f1')\n",
        "grid.fit(x_train,y_train)\n",
        "y_pred=grid.predict(x_test)"
      ],
      "metadata": {
        "id": "mtJYyYDRDRkA",
        "colab": {
          "base_uri": "https://localhost:8080/"
        },
        "outputId": "ebbd644b-44d0-46f7-caef-f6fbfb206637"
      },
      "execution_count": null,
      "outputs": [
        {
          "output_type": "stream",
          "name": "stdout",
          "text": [
            "Fitting 5 folds for each of 5 candidates, totalling 25 fits\n",
            "[CV 1/5] END C=0.1, kernel=sigmoid, random_state=50;, score=0.318 total time=   0.4s\n",
            "[CV 2/5] END C=0.1, kernel=sigmoid, random_state=50;, score=0.257 total time=   0.4s\n",
            "[CV 3/5] END C=0.1, kernel=sigmoid, random_state=50;, score=0.264 total time=   0.3s\n",
            "[CV 4/5] END C=0.1, kernel=sigmoid, random_state=50;, score=0.298 total time=   0.4s\n",
            "[CV 5/5] END C=0.1, kernel=sigmoid, random_state=50;, score=0.286 total time=   0.4s\n",
            "[CV 1/5] END C=1, kernel=sigmoid, random_state=50;, score=0.304 total time=   0.3s\n",
            "[CV 2/5] END C=1, kernel=sigmoid, random_state=50;, score=0.237 total time=   0.3s\n",
            "[CV 3/5] END C=1, kernel=sigmoid, random_state=50;, score=0.262 total time=   0.3s\n",
            "[CV 4/5] END C=1, kernel=sigmoid, random_state=50;, score=0.289 total time=   0.3s\n",
            "[CV 5/5] END C=1, kernel=sigmoid, random_state=50;, score=0.274 total time=   0.3s\n",
            "[CV 1/5] END C=10, kernel=sigmoid, random_state=50;, score=0.302 total time=   0.4s\n",
            "[CV 2/5] END C=10, kernel=sigmoid, random_state=50;, score=0.236 total time=   0.3s\n",
            "[CV 3/5] END C=10, kernel=sigmoid, random_state=50;, score=0.262 total time=   0.3s\n",
            "[CV 4/5] END C=10, kernel=sigmoid, random_state=50;, score=0.289 total time=   0.3s\n",
            "[CV 5/5] END C=10, kernel=sigmoid, random_state=50;, score=0.274 total time=   0.3s\n",
            "[CV 1/5] END C=100, kernel=sigmoid, random_state=50;, score=0.302 total time=   0.3s\n",
            "[CV 2/5] END C=100, kernel=sigmoid, random_state=50;, score=0.236 total time=   0.3s\n",
            "[CV 3/5] END C=100, kernel=sigmoid, random_state=50;, score=0.262 total time=   0.3s\n",
            "[CV 4/5] END C=100, kernel=sigmoid, random_state=50;, score=0.289 total time=   0.3s\n",
            "[CV 5/5] END C=100, kernel=sigmoid, random_state=50;, score=0.273 total time=   0.3s\n",
            "[CV 1/5] END C=1000, kernel=sigmoid, random_state=50;, score=0.302 total time=   0.3s\n",
            "[CV 2/5] END C=1000, kernel=sigmoid, random_state=50;, score=0.236 total time=   0.3s\n",
            "[CV 3/5] END C=1000, kernel=sigmoid, random_state=50;, score=0.262 total time=   0.3s\n",
            "[CV 4/5] END C=1000, kernel=sigmoid, random_state=50;, score=0.289 total time=   0.3s\n",
            "[CV 5/5] END C=1000, kernel=sigmoid, random_state=50;, score=0.273 total time=   0.3s\n"
          ]
        }
      ]
    },
    {
      "cell_type": "code",
      "source": [
        "grid.best_params_"
      ],
      "metadata": {
        "colab": {
          "base_uri": "https://localhost:8080/"
        },
        "id": "PvqjCgJoNOA1",
        "outputId": "7a2781e2-c823-4095-8eb7-2231e6aa3a50"
      },
      "execution_count": null,
      "outputs": [
        {
          "output_type": "execute_result",
          "data": {
            "text/plain": [
              "{'C': 0.1, 'kernel': 'sigmoid', 'random_state': 50}"
            ]
          },
          "metadata": {},
          "execution_count": 182
        }
      ]
    },
    {
      "cell_type": "code",
      "source": [
        "grid.best_score_"
      ],
      "metadata": {
        "colab": {
          "base_uri": "https://localhost:8080/"
        },
        "id": "vMg7R94qNR3B",
        "outputId": "a41ef030-bb95-406a-fac0-156e7c39ebff"
      },
      "execution_count": null,
      "outputs": [
        {
          "output_type": "execute_result",
          "data": {
            "text/plain": [
              "0.2846737310915377"
            ]
          },
          "metadata": {},
          "execution_count": 183
        }
      ]
    },
    {
      "cell_type": "markdown",
      "source": [
        "###Q5d RBF Kernel"
      ],
      "metadata": {
        "id": "xtz9KvY6AcE9"
      }
    },
    {
      "cell_type": "markdown",
      "source": [
        "Apply Linear SVM for costs (C) = [0.1, 1, 10, 100, 1000], predict for the test set and check f1 score for each of the costs. State the best cost "
      ],
      "metadata": {
        "id": "S85NYKGkDj0D"
      }
    },
    {
      "cell_type": "code",
      "source": [
        "l=[]\n",
        "c=[0.1,1,10,100,1000]\n",
        "for i in c:\n",
        "  classifier=SVC(kernel='rbf',C=i,random_state=50)\n",
        "  classifier.fit(x_train,y_train)\n",
        "  y_pred=classifier.predict(x_test)\n",
        "  print(f'F1 score for {i} is {f1_score(y_test,y_pred)}')\n",
        "  l.append(f1_score(y_test,y_pred))\n",
        "z=dict(zip(c,l))\n",
        "for i in z:\n",
        "  if(z[i]==max(l)):\n",
        "    print('Best cost is for c:',i)"
      ],
      "metadata": {
        "colab": {
          "base_uri": "https://localhost:8080/"
        },
        "id": "D62dA7WSckoM",
        "outputId": "d3c825c2-2063-4abe-9698-f45849dcf6db"
      },
      "execution_count": null,
      "outputs": [
        {
          "output_type": "stream",
          "name": "stdout",
          "text": [
            "F1 score for 0.1 is 0.8825757575757576\n",
            "F1 score for 1 is 0.8835489833641405\n",
            "F1 score for 10 is 0.8864468864468865\n",
            "F1 score for 100 is 0.8761552680221812\n",
            "F1 score for 1000 is 0.8461538461538461\n",
            "Best cost is for c: 10\n"
          ]
        }
      ]
    },
    {
      "cell_type": "code",
      "source": [
        "param_grid={'C':[0.1,1,10,100,1000],'kernel':['rbf'],'random_state':[50]}\n",
        "grid=GridSearchCV(SVC(),param_grid,refit=True,verbose=3,scoring='f1')\n",
        "grid.fit(x_train,y_train)\n",
        "y_pred=grid.predict(x_test)"
      ],
      "metadata": {
        "id": "oeA1eR798Z7f",
        "colab": {
          "base_uri": "https://localhost:8080/"
        },
        "outputId": "c4749432-a8b5-465d-fb2f-88e5aee10f7e"
      },
      "execution_count": null,
      "outputs": [
        {
          "output_type": "stream",
          "name": "stdout",
          "text": [
            "Fitting 5 folds for each of 5 candidates, totalling 25 fits\n",
            "[CV 1/5] END C=0.1, kernel=rbf, random_state=50;, score=0.820 total time=   0.2s\n",
            "[CV 2/5] END C=0.1, kernel=rbf, random_state=50;, score=0.804 total time=   0.2s\n",
            "[CV 3/5] END C=0.1, kernel=rbf, random_state=50;, score=0.816 total time=   0.2s\n",
            "[CV 4/5] END C=0.1, kernel=rbf, random_state=50;, score=0.870 total time=   0.2s\n",
            "[CV 5/5] END C=0.1, kernel=rbf, random_state=50;, score=0.847 total time=   0.2s\n",
            "[CV 1/5] END ..C=1, kernel=rbf, random_state=50;, score=0.879 total time=   0.1s\n",
            "[CV 2/5] END ..C=1, kernel=rbf, random_state=50;, score=0.841 total time=   0.2s\n",
            "[CV 3/5] END ..C=1, kernel=rbf, random_state=50;, score=0.856 total time=   0.1s\n",
            "[CV 4/5] END ..C=1, kernel=rbf, random_state=50;, score=0.889 total time=   0.2s\n",
            "[CV 5/5] END ..C=1, kernel=rbf, random_state=50;, score=0.901 total time=   0.2s\n",
            "[CV 1/5] END .C=10, kernel=rbf, random_state=50;, score=0.894 total time=   0.2s\n",
            "[CV 2/5] END .C=10, kernel=rbf, random_state=50;, score=0.852 total time=   0.2s\n",
            "[CV 3/5] END .C=10, kernel=rbf, random_state=50;, score=0.861 total time=   0.1s\n",
            "[CV 4/5] END .C=10, kernel=rbf, random_state=50;, score=0.898 total time=   0.2s\n",
            "[CV 5/5] END .C=10, kernel=rbf, random_state=50;, score=0.908 total time=   0.2s\n",
            "[CV 1/5] END C=100, kernel=rbf, random_state=50;, score=0.872 total time=   0.3s\n",
            "[CV 2/5] END C=100, kernel=rbf, random_state=50;, score=0.853 total time=   0.3s\n",
            "[CV 3/5] END C=100, kernel=rbf, random_state=50;, score=0.852 total time=   0.3s\n",
            "[CV 4/5] END C=100, kernel=rbf, random_state=50;, score=0.902 total time=   0.3s\n",
            "[CV 5/5] END C=100, kernel=rbf, random_state=50;, score=0.892 total time=   0.3s\n",
            "[CV 1/5] END C=1000, kernel=rbf, random_state=50;, score=0.869 total time=   0.9s\n",
            "[CV 2/5] END C=1000, kernel=rbf, random_state=50;, score=0.860 total time=   0.9s\n",
            "[CV 3/5] END C=1000, kernel=rbf, random_state=50;, score=0.844 total time=   0.8s\n",
            "[CV 4/5] END C=1000, kernel=rbf, random_state=50;, score=0.896 total time=   0.9s\n",
            "[CV 5/5] END C=1000, kernel=rbf, random_state=50;, score=0.861 total time=   0.8s\n"
          ]
        }
      ]
    },
    {
      "cell_type": "markdown",
      "source": [
        "## rbf kernel is used for non-linear data.It is the most preferred kernel when there is no prior knowledge of the data."
      ],
      "metadata": {
        "id": "_UE6ibeRQcLv"
      }
    },
    {
      "cell_type": "code",
      "source": [
        "grid.best_params_"
      ],
      "metadata": {
        "colab": {
          "base_uri": "https://localhost:8080/"
        },
        "id": "lspTdLyPNrn9",
        "outputId": "9dd6da09-a671-4204-990e-3029a8e26f8f"
      },
      "execution_count": null,
      "outputs": [
        {
          "output_type": "execute_result",
          "data": {
            "text/plain": [
              "{'C': 10, 'kernel': 'rbf', 'random_state': 50}"
            ]
          },
          "metadata": {},
          "execution_count": 143
        }
      ]
    },
    {
      "cell_type": "code",
      "source": [
        "grid.best_score_"
      ],
      "metadata": {
        "colab": {
          "base_uri": "https://localhost:8080/"
        },
        "id": "cbALdq1jNwXa",
        "outputId": "628793f3-8ecd-4ea0-9a3a-98175bcfff16"
      },
      "execution_count": null,
      "outputs": [
        {
          "output_type": "execute_result",
          "data": {
            "text/plain": [
              "0.8826665811518073"
            ]
          },
          "metadata": {},
          "execution_count": 144
        }
      ]
    }
  ]
}